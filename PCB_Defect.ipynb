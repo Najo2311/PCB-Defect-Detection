{
  "cells": [
    {
      "cell_type": "markdown",
      "metadata": {
        "id": "view-in-github",
        "colab_type": "text"
      },
      "source": [
        "<a href=\"https://colab.research.google.com/github/Najo2311/PCB-Defect-Detection/blob/main/PCB_Defect.ipynb\" target=\"_parent\"><img src=\"https://colab.research.google.com/assets/colab-badge.svg\" alt=\"Open In Colab\"/></a>"
      ]
    },
    {
      "cell_type": "code",
      "execution_count": null,
      "metadata": {
        "id": "d5RGKPKOH8FT",
        "colab": {
          "base_uri": "https://localhost:8080/"
        },
        "outputId": "c13203f6-c9a3-4419-8213-98502c69cb7d"
      },
      "outputs": [
        {
          "output_type": "stream",
          "name": "stdout",
          "text": [
            "Cloning into 'yolov5'...\n",
            "remote: Enumerating objects: 16383, done.\u001b[K\n",
            "remote: Counting objects: 100% (277/277), done.\u001b[K\n",
            "remote: Compressing objects: 100% (203/203), done.\u001b[K\n",
            "remote: Total 16383 (delta 138), reused 158 (delta 74), pack-reused 16106\u001b[K\n",
            "Receiving objects: 100% (16383/16383), 15.16 MiB | 19.87 MiB/s, done.\n",
            "Resolving deltas: 100% (11175/11175), done.\n"
          ]
        }
      ],
      "source": [
        "!git clone https://github.com/ultralytics/yolov5.git"
      ]
    },
    {
      "cell_type": "code",
      "source": [
        "%cd yolov5"
      ],
      "metadata": {
        "id": "AvGPRPRLnV75",
        "colab": {
          "base_uri": "https://localhost:8080/"
        },
        "outputId": "3f20fa79-cc96-43c6-8762-882ed38e56cc"
      },
      "execution_count": null,
      "outputs": [
        {
          "output_type": "stream",
          "name": "stdout",
          "text": [
            "/content/yolov5\n"
          ]
        }
      ]
    },
    {
      "cell_type": "code",
      "execution_count": 39,
      "metadata": {
        "colab": {
          "base_uri": "https://localhost:8080/"
        },
        "id": "lVrOebzcuk9v",
        "outputId": "bdaa2506-4646-4cb4-bafc-29269edfc694"
      },
      "outputs": [
        {
          "output_type": "stream",
          "name": "stdout",
          "text": [
            "1.yaml         CONTRIBUTING.md  export.py   \u001b[0m\u001b[01;34m__pycache__\u001b[0m/     requirements.txt  tutorial.ipynb\n",
            "benchmarks.py  \u001b[01;34mdata\u001b[0m/            hubconf.py  pyproject.toml   \u001b[01;34mruns\u001b[0m/             \u001b[01;34mutils\u001b[0m/\n",
            "CITATION.cff   \u001b[01;34mdatasetpcb\u001b[0m/      LICENSE     README.md        \u001b[01;34msegment\u001b[0m/          val.py\n",
            "\u001b[01;34mclassify\u001b[0m/      detect.py        \u001b[01;34mmodels\u001b[0m/     README.zh-CN.md  train.py          yolov5s.pt\n"
          ]
        }
      ],
      "source": [
        "ls"
      ]
    },
    {
      "cell_type": "code",
      "execution_count": null,
      "metadata": {
        "id": "2Oy-iMQtulAu"
      },
      "outputs": [],
      "source": [
        "!pip install -r requirements.txt"
      ]
    },
    {
      "cell_type": "code",
      "source": [
        "!python /content/yolov5/train.py --img 416 --batch 2 --epochs 300 --data /content/yolov5/1.yaml --weights yolov5s.pt --cache --name pcb_1st"
      ],
      "metadata": {
        "id": "Jg0817Rs8_Cz",
        "colab": {
          "base_uri": "https://localhost:8080/"
        },
        "outputId": "9ea6b863-782f-4a2a-c8a2-f8ce04e7dbc9"
      },
      "execution_count": null,
      "outputs": [
        {
          "output_type": "stream",
          "name": "stdout",
          "text": [
            "2024-01-23 10:18:43.945124: E external/local_xla/xla/stream_executor/cuda/cuda_dnn.cc:9261] Unable to register cuDNN factory: Attempting to register factory for plugin cuDNN when one has already been registered\n",
            "2024-01-23 10:18:43.945184: E external/local_xla/xla/stream_executor/cuda/cuda_fft.cc:607] Unable to register cuFFT factory: Attempting to register factory for plugin cuFFT when one has already been registered\n",
            "2024-01-23 10:18:43.946467: E external/local_xla/xla/stream_executor/cuda/cuda_blas.cc:1515] Unable to register cuBLAS factory: Attempting to register factory for plugin cuBLAS when one has already been registered\n",
            "\u001b[34m\u001b[1mtrain: \u001b[0mweights=yolov5s.pt, cfg=, data=/content/yolov5/1.yaml, hyp=data/hyps/hyp.scratch-low.yaml, epochs=300, batch_size=2, imgsz=416, rect=False, resume=False, nosave=False, noval=False, noautoanchor=False, noplots=False, evolve=None, evolve_population=data/hyps, resume_evolve=None, bucket=, cache=ram, image_weights=False, device=, multi_scale=False, single_cls=False, optimizer=SGD, sync_bn=False, workers=8, project=runs/train, name=pcb_1st, exist_ok=False, quad=False, cos_lr=False, label_smoothing=0.0, patience=100, freeze=[0], save_period=-1, seed=0, local_rank=-1, entity=None, upload_dataset=False, bbox_interval=-1, artifact_alias=latest, ndjson_console=False, ndjson_file=False\n",
            "\u001b[34m\u001b[1mgithub: \u001b[0mup to date with https://github.com/ultralytics/yolov5 ✅\n",
            "YOLOv5 🚀 v7.0-278-g050c72c Python-3.10.12 torch-2.1.0+cu121 CPU\n",
            "\n",
            "\u001b[34m\u001b[1mhyperparameters: \u001b[0mlr0=0.01, lrf=0.01, momentum=0.937, weight_decay=0.0005, warmup_epochs=3.0, warmup_momentum=0.8, warmup_bias_lr=0.1, box=0.05, cls=0.5, cls_pw=1.0, obj=1.0, obj_pw=1.0, iou_t=0.2, anchor_t=4.0, fl_gamma=0.0, hsv_h=0.015, hsv_s=0.7, hsv_v=0.4, degrees=0.0, translate=0.1, scale=0.5, shear=0.0, perspective=0.0, flipud=0.0, fliplr=0.5, mosaic=1.0, mixup=0.0, copy_paste=0.0\n",
            "\u001b[34m\u001b[1mComet: \u001b[0mrun 'pip install comet_ml' to automatically track and visualize YOLOv5 🚀 runs in Comet\n",
            "\u001b[34m\u001b[1mTensorBoard: \u001b[0mStart with 'tensorboard --logdir runs/train', view at http://localhost:6006/\n",
            "Overriding model.yaml nc=80 with nc=6\n",
            "\n",
            "                 from  n    params  module                                  arguments                     \n",
            "  0                -1  1      3520  models.common.Conv                      [3, 32, 6, 2, 2]              \n",
            "  1                -1  1     18560  models.common.Conv                      [32, 64, 3, 2]                \n",
            "  2                -1  1     18816  models.common.C3                        [64, 64, 1]                   \n",
            "  3                -1  1     73984  models.common.Conv                      [64, 128, 3, 2]               \n",
            "  4                -1  2    115712  models.common.C3                        [128, 128, 2]                 \n",
            "  5                -1  1    295424  models.common.Conv                      [128, 256, 3, 2]              \n",
            "  6                -1  3    625152  models.common.C3                        [256, 256, 3]                 \n",
            "  7                -1  1   1180672  models.common.Conv                      [256, 512, 3, 2]              \n",
            "  8                -1  1   1182720  models.common.C3                        [512, 512, 1]                 \n",
            "  9                -1  1    656896  models.common.SPPF                      [512, 512, 5]                 \n",
            " 10                -1  1    131584  models.common.Conv                      [512, 256, 1, 1]              \n",
            " 11                -1  1         0  torch.nn.modules.upsampling.Upsample    [None, 2, 'nearest']          \n",
            " 12           [-1, 6]  1         0  models.common.Concat                    [1]                           \n",
            " 13                -1  1    361984  models.common.C3                        [512, 256, 1, False]          \n",
            " 14                -1  1     33024  models.common.Conv                      [256, 128, 1, 1]              \n",
            " 15                -1  1         0  torch.nn.modules.upsampling.Upsample    [None, 2, 'nearest']          \n",
            " 16           [-1, 4]  1         0  models.common.Concat                    [1]                           \n",
            " 17                -1  1     90880  models.common.C3                        [256, 128, 1, False]          \n",
            " 18                -1  1    147712  models.common.Conv                      [128, 128, 3, 2]              \n",
            " 19          [-1, 14]  1         0  models.common.Concat                    [1]                           \n",
            " 20                -1  1    296448  models.common.C3                        [256, 256, 1, False]          \n",
            " 21                -1  1    590336  models.common.Conv                      [256, 256, 3, 2]              \n",
            " 22          [-1, 10]  1         0  models.common.Concat                    [1]                           \n",
            " 23                -1  1   1182720  models.common.C3                        [512, 512, 1, False]          \n",
            " 24      [17, 20, 23]  1     29667  models.yolo.Detect                      [6, [[10, 13, 16, 30, 33, 23], [30, 61, 62, 45, 59, 119], [116, 90, 156, 198, 373, 326]], [128, 256, 512]]\n",
            "Model summary: 214 layers, 7035811 parameters, 7035811 gradients, 16.0 GFLOPs\n",
            "\n",
            "Transferred 343/349 items from yolov5s.pt\n",
            "\u001b[34m\u001b[1moptimizer:\u001b[0m SGD(lr=0.01) with parameter groups 57 weight(decay=0.0), 60 weight(decay=0.0005), 60 bias\n",
            "\u001b[34m\u001b[1malbumentations: \u001b[0mBlur(p=0.01, blur_limit=(3, 7)), MedianBlur(p=0.01, blur_limit=(3, 7)), ToGray(p=0.01), CLAHE(p=0.01, clip_limit=(1, 4.0), tile_grid_size=(8, 8))\n",
            "\u001b[34m\u001b[1mtrain: \u001b[0mScanning /content/yolov5/datasetpcb/labels/train... 20 images, 0 backgrounds, 0 corrupt: 100% 20/20 [00:00<00:00, 274.80it/s]\n",
            "\u001b[34m\u001b[1mtrain: \u001b[0mNew cache created: /content/yolov5/datasetpcb/labels/train.cache\n",
            "\u001b[34m\u001b[1mtrain: \u001b[0mCaching images (0.0GB ram): 100% 20/20 [00:02<00:00,  6.70it/s]\n",
            "\u001b[34m\u001b[1mval: \u001b[0mScanning /content/yolov5/datasetpcb/labels/val... 60 images, 0 backgrounds, 0 corrupt: 100% 60/60 [00:00<00:00, 128.17it/s]\n",
            "\u001b[34m\u001b[1mval: \u001b[0mNew cache created: /content/yolov5/datasetpcb/labels/val.cache\n",
            "\u001b[34m\u001b[1mval: \u001b[0mCaching images (0.0GB ram): 100% 60/60 [00:07<00:00,  8.15it/s]\n",
            "\n",
            "\u001b[34m\u001b[1mAutoAnchor: \u001b[0m3.84 anchors/target, 1.000 Best Possible Recall (BPR). Current anchors are a good fit to dataset ✅\n",
            "Plotting labels to runs/train/pcb_1st12/labels.jpg... \n",
            "Image sizes 416 train, 416 val\n",
            "Using 2 dataloader workers\n",
            "Logging results to \u001b[1mruns/train/pcb_1st12\u001b[0m\n",
            "Starting training for 300 epochs...\n",
            "\n",
            "      Epoch    GPU_mem   box_loss   obj_loss   cls_loss  Instances       Size\n",
            "      0/299         0G    0.09631    0.01884    0.03828          9        416: 100% 10/10 [00:16<00:00,  1.64s/it]\n",
            "                 Class     Images  Instances          P          R      mAP50   mAP50-95: 100% 15/15 [00:13<00:00,  1.07it/s]\n",
            "                   all         60        294          0          0          0          0\n",
            "\n",
            "      Epoch    GPU_mem   box_loss   obj_loss   cls_loss  Instances       Size\n",
            "      1/299         0G    0.09224    0.01978    0.03697         34        416: 100% 10/10 [00:12<00:00,  1.24s/it]\n",
            "                 Class     Images  Instances          P          R      mAP50   mAP50-95: 100% 15/15 [00:13<00:00,  1.09it/s]\n",
            "                   all         60        294          0          0          0          0\n",
            "\n",
            "      Epoch    GPU_mem   box_loss   obj_loss   cls_loss  Instances       Size\n",
            "      2/299         0G    0.09018    0.01907    0.03768         10        416: 100% 10/10 [00:12<00:00,  1.23s/it]\n",
            "                 Class     Images  Instances          P          R      mAP50   mAP50-95:  87% 13/15 [00:11<00:02,  1.11s/it]"
          ]
        }
      ]
    },
    {
      "cell_type": "code",
      "execution_count": null,
      "metadata": {
        "id": "kZq37rmSQBdG"
      },
      "outputs": [],
      "source": [
        "!zip -r /content/yolov5/runs/train/pcb_1st15 /content/yolov5/runs\n"
      ]
    },
    {
      "cell_type": "code",
      "execution_count": null,
      "metadata": {
        "colab": {
          "base_uri": "https://localhost:8080/"
        },
        "id": "bwRqN6qPQQjN",
        "outputId": "1e62140d-8df7-4203-b9f6-43b8a9af5771"
      },
      "outputs": [
        {
          "output_type": "stream",
          "name": "stdout",
          "text": [
            "\u001b[34m\u001b[1mval: \u001b[0mdata=/content/yolov5/1.yaml, weights=['/content/yolov5/runs/train/pcb_1st14/weights/best.pt'], batch_size=32, imgsz=640, conf_thres=0.001, iou_thres=0.6, max_det=300, task=val, device=, workers=8, single_cls=False, augment=False, verbose=False, save_txt=False, save_hybrid=False, save_conf=False, save_json=False, project=runs/val, name=exp, exist_ok=False, half=False, dnn=False\n",
            "YOLOv5 🚀 v7.0-278-g050c72c Python-3.10.12 torch-2.1.0+cu121 CUDA:0 (Tesla T4, 15102MiB)\n",
            "\n",
            "Fusing layers... \n",
            "Model summary: 157 layers, 7026307 parameters, 0 gradients, 15.8 GFLOPs\n",
            "\u001b[34m\u001b[1mval: \u001b[0mScanning /content/yolov5/datasetpcb/labels/val.cache... 52 images, 0 backgrounds, 4 corrupt: 100% 56/56 [00:00<?, ?it/s]\n",
            "\u001b[34m\u001b[1mval: \u001b[0mWARNING ⚠️ /content/yolov5/datasetpcb/images/val/04_missing_hole_19.jpg: ignoring corrupt image/label: image file is truncated (18 bytes not processed)\n",
            "\u001b[34m\u001b[1mval: \u001b[0mWARNING ⚠️ /content/yolov5/datasetpcb/images/val/04_mouse_bite_10.jpg: ignoring corrupt image/label: image file is truncated (27 bytes not processed)\n",
            "\u001b[34m\u001b[1mval: \u001b[0mWARNING ⚠️ /content/yolov5/datasetpcb/images/val/04_mouse_bite_19.jpg: ignoring corrupt image/label: image file is truncated (7 bytes not processed)\n",
            "\u001b[34m\u001b[1mval: \u001b[0mWARNING ⚠️ /content/yolov5/datasetpcb/images/val/04_open_circuit_11.jpg: ignoring corrupt image/label: image file is truncated (0 bytes not processed)\n",
            "                 Class     Images  Instances          P          R      mAP50   mAP50-95: 100% 2/2 [00:12<00:00,  6.40s/it]\n",
            "                   all         52        227      0.975      0.155      0.274      0.107\n",
            "          missing_hole         52         41          1      0.702      0.802      0.315\n",
            "            mouse_bite         52         29          1          0      0.111     0.0412\n",
            "          open_circuit         52         33          1          0      0.155     0.0559\n",
            "                 short         52         26       0.85      0.231      0.265       0.12\n",
            "                  spur         52         45          1          0      0.177     0.0722\n",
            "       spurious_copper         52         53          1          0      0.136      0.037\n",
            "Speed: 0.3ms pre-process, 20.8ms inference, 41.9ms NMS per image at shape (32, 3, 640, 640)\n",
            "Results saved to \u001b[1mruns/val/exp5\u001b[0m\n"
          ]
        }
      ],
      "source": [
        "!python val.py --weights  /content/yolov5/runs/train/pcb_1st15/weights/best.pt --data /content/yolov5/1.yaml"
      ]
    },
    {
      "cell_type": "code",
      "execution_count": null,
      "metadata": {
        "id": "r696aGWi42Yr",
        "colab": {
          "base_uri": "https://localhost:8080/"
        },
        "outputId": "5dda91e0-b510-448c-fbb7-f766aa60cffa"
      },
      "outputs": [
        {
          "output_type": "stream",
          "name": "stdout",
          "text": [
            "\u001b[34m\u001b[1mdetect: \u001b[0mweights=['/content/yolov5/runs/train/pcb_1st14/weights/best.pt'], source=/content/yolov5/datasetpcb/images/train/07_mouse_bite_10.jpg, data=data/coco128.yaml, imgsz=[640, 640], conf_thres=0.25, iou_thres=0.45, max_det=1000, device=, view_img=False, save_txt=False, save_csv=False, save_conf=False, save_crop=False, nosave=False, classes=None, agnostic_nms=False, augment=False, visualize=False, update=False, project=runs/detect, name=exp, exist_ok=False, line_thickness=3, hide_labels=False, hide_conf=False, half=False, dnn=False, vid_stride=1\n",
            "YOLOv5 🚀 v7.0-278-g050c72c Python-3.10.12 torch-2.1.0+cu121 CUDA:0 (Tesla T4, 15102MiB)\n",
            "\n",
            "Fusing layers... \n",
            "Model summary: 157 layers, 7026307 parameters, 0 gradients, 15.8 GFLOPs\n",
            "image 1/1 /content/yolov5/datasetpcb/images/train/07_mouse_bite_10.jpg: 448x640 1 open_circuit, 1 spur, 49.0ms\n",
            "Speed: 0.6ms pre-process, 49.0ms inference, 444.1ms NMS per image at shape (1, 3, 640, 640)\n",
            "Results saved to \u001b[1mruns/detect/exp4\u001b[0m\n",
            "^C\n"
          ]
        }
      ],
      "source": [
        "!python detect.py --source /content/yolov5/datasetpcb/images/train/07_mouse_bite_10.jpg  --weights /content/yolov5/runs/train/pcb_1st14/weights/best.pt"
      ]
    },
    {
      "cell_type": "code",
      "source": [
        "import shutil\n",
        "\n",
        "# Specify the path of the folder you want to delete\n",
        "folder_path = '/content/yolov5/datasetpcb/images/train '\n",
        "\n",
        "# Use shutil.rmtree to delete the folder and its contents\n",
        "shutil.rmtree(folder_path)\n",
        "\n",
        "# Confirm that the folder has been deleted\n",
        "print(f\"The folder {folder_path} has been deleted.\")\n"
      ],
      "metadata": {
        "id": "llQ0mjrimlZ_",
        "colab": {
          "base_uri": "https://localhost:8080/"
        },
        "outputId": "220317dd-ccb1-4759-d9c7-c67412953003"
      },
      "execution_count": null,
      "outputs": [
        {
          "output_type": "stream",
          "name": "stdout",
          "text": [
            "The folder /content/yolov5/datasetpcb/images/train  has been deleted.\n"
          ]
        }
      ]
    },
    {
      "cell_type": "code",
      "source": [],
      "metadata": {
        "id": "gukgW5ypxYhi"
      },
      "execution_count": null,
      "outputs": []
    }
  ],
  "metadata": {
    "accelerator": "GPU",
    "colab": {
      "provenance": [],
      "gpuType": "T4",
      "authorship_tag": "ABX9TyNVepnilh20y6Fg/qC2gM4n",
      "include_colab_link": true
    },
    "kernelspec": {
      "display_name": "Python 3",
      "name": "python3"
    },
    "language_info": {
      "name": "python"
    }
  },
  "nbformat": 4,
  "nbformat_minor": 0
}