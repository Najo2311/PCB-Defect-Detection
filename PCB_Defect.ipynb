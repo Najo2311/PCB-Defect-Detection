{
  "cells": [
    {
      "cell_type": "markdown",
      "metadata": {
        "id": "view-in-github",
        "colab_type": "text"
      },
      "source": [
        "<a href=\"https://colab.research.google.com/github/Najo2311/PCB-Defect-Detection/blob/main/PCB_Defect.ipynb\" target=\"_parent\"><img src=\"https://colab.research.google.com/assets/colab-badge.svg\" alt=\"Open In Colab\"/></a>"
      ]
    },
    {
      "cell_type": "code",
      "execution_count": 1,
      "metadata": {
        "colab": {
          "base_uri": "https://localhost:8080/"
        },
        "id": "fMSpWhPogozL",
        "outputId": "8fda94e1-274e-4004-c97a-e1ce64bda517"
      },
      "outputs": [
        {
          "output_type": "stream",
          "name": "stdout",
          "text": [
            "Cloning into 'yolov5'...\n",
            "remote: Enumerating objects: 16403, done.\u001b[K\n",
            "remote: Counting objects: 100% (297/297), done.\u001b[K\n",
            "remote: Compressing objects: 100% (216/216), done.\u001b[K\n",
            "remote: Total 16403 (delta 153), reused 172 (delta 81), pack-reused 16106\u001b[K\n",
            "Receiving objects: 100% (16403/16403), 15.16 MiB | 13.69 MiB/s, done.\n",
            "Resolving deltas: 100% (11190/11190), done.\n"
          ]
        }
      ],
      "source": [
        "!git clone https://github.com/ultralytics/yolov5.git"
      ]
    },
    {
      "cell_type": "code",
      "execution_count": 2,
      "metadata": {
        "colab": {
          "base_uri": "https://localhost:8080/"
        },
        "id": "AvGPRPRLnV75",
        "outputId": "e87cf834-ec9e-4a35-ec9f-857afa5b3434"
      },
      "outputs": [
        {
          "output_type": "stream",
          "name": "stdout",
          "text": [
            "/content/yolov5\n"
          ]
        }
      ],
      "source": [
        "%cd yolov5"
      ]
    },
    {
      "cell_type": "code",
      "execution_count": null,
      "metadata": {
        "colab": {
          "base_uri": "https://localhost:8080/"
        },
        "id": "lVrOebzcuk9v",
        "outputId": "7042b5f7-f4c2-422d-93e5-cca458e8fb7b"
      },
      "outputs": [
        {
          "name": "stdout",
          "output_type": "stream",
          "text": [
            "1.yaml         CONTRIBUTING.md  export.py   pyproject.toml    \u001b[0m\u001b[01;34msegment\u001b[0m/        val.py\n",
            "benchmarks.py  \u001b[01;34mdata\u001b[0m/            hubconf.py  README.md         train.py        \u001b[01;34myolov5\u001b[0m/\n",
            "CITATION.cff   \u001b[01;34mdatasetpcb\u001b[0m/      LICENSE     README.zh-CN.md   tutorial.ipynb\n",
            "\u001b[01;34mclassify\u001b[0m/      detect.py        \u001b[01;34mmodels\u001b[0m/     requirements.txt  \u001b[01;34mutils\u001b[0m/\n"
          ]
        }
      ],
      "source": [
        "ls"
      ]
    },
    {
      "cell_type": "code",
      "execution_count": null,
      "metadata": {
        "colab": {
          "base_uri": "https://localhost:8080/"
        },
        "id": "2Oy-iMQtulAu",
        "outputId": "0bd99c15-2dc7-4266-ab49-9dcb9e9fb6e9"
      },
      "outputs": [
        {
          "name": "stdout",
          "output_type": "stream",
          "text": [
            "Requirement already satisfied: gitpython>=3.1.30 in /usr/local/lib/python3.10/dist-packages (from -r requirements.txt (line 5)) (3.1.41)\n",
            "Requirement already satisfied: matplotlib>=3.3 in /usr/local/lib/python3.10/dist-packages (from -r requirements.txt (line 6)) (3.7.1)\n",
            "Requirement already satisfied: numpy>=1.23.5 in /usr/local/lib/python3.10/dist-packages (from -r requirements.txt (line 7)) (1.23.5)\n",
            "Requirement already satisfied: opencv-python>=4.1.1 in /usr/local/lib/python3.10/dist-packages (from -r requirements.txt (line 8)) (4.8.0.76)\n",
            "Requirement already satisfied: Pillow>=10.0.1 in /usr/local/lib/python3.10/dist-packages (from -r requirements.txt (line 9)) (10.2.0)\n",
            "Requirement already satisfied: psutil in /usr/local/lib/python3.10/dist-packages (from -r requirements.txt (line 10)) (5.9.5)\n",
            "Requirement already satisfied: PyYAML>=5.3.1 in /usr/local/lib/python3.10/dist-packages (from -r requirements.txt (line 11)) (6.0.1)\n",
            "Requirement already satisfied: requests>=2.23.0 in /usr/local/lib/python3.10/dist-packages (from -r requirements.txt (line 12)) (2.31.0)\n",
            "Requirement already satisfied: scipy>=1.4.1 in /usr/local/lib/python3.10/dist-packages (from -r requirements.txt (line 13)) (1.11.4)\n",
            "Requirement already satisfied: thop>=0.1.1 in /usr/local/lib/python3.10/dist-packages (from -r requirements.txt (line 14)) (0.1.1.post2209072238)\n",
            "Requirement already satisfied: torch>=1.8.0 in /usr/local/lib/python3.10/dist-packages (from -r requirements.txt (line 15)) (2.1.0+cu121)\n",
            "Requirement already satisfied: torchvision>=0.9.0 in /usr/local/lib/python3.10/dist-packages (from -r requirements.txt (line 16)) (0.16.0+cu121)\n",
            "Requirement already satisfied: tqdm>=4.64.0 in /usr/local/lib/python3.10/dist-packages (from -r requirements.txt (line 17)) (4.66.1)\n",
            "Requirement already satisfied: ultralytics>=8.0.232 in /usr/local/lib/python3.10/dist-packages (from -r requirements.txt (line 18)) (8.1.8)\n",
            "Requirement already satisfied: pandas>=1.1.4 in /usr/local/lib/python3.10/dist-packages (from -r requirements.txt (line 27)) (1.5.3)\n",
            "Requirement already satisfied: seaborn>=0.11.0 in /usr/local/lib/python3.10/dist-packages (from -r requirements.txt (line 28)) (0.13.1)\n",
            "Requirement already satisfied: setuptools>=65.5.1 in /usr/local/lib/python3.10/dist-packages (from -r requirements.txt (line 42)) (67.7.2)\n",
            "Requirement already satisfied: gitdb<5,>=4.0.1 in /usr/local/lib/python3.10/dist-packages (from gitpython>=3.1.30->-r requirements.txt (line 5)) (4.0.11)\n",
            "Requirement already satisfied: contourpy>=1.0.1 in /usr/local/lib/python3.10/dist-packages (from matplotlib>=3.3->-r requirements.txt (line 6)) (1.2.0)\n",
            "Requirement already satisfied: cycler>=0.10 in /usr/local/lib/python3.10/dist-packages (from matplotlib>=3.3->-r requirements.txt (line 6)) (0.12.1)\n",
            "Requirement already satisfied: fonttools>=4.22.0 in /usr/local/lib/python3.10/dist-packages (from matplotlib>=3.3->-r requirements.txt (line 6)) (4.47.2)\n",
            "Requirement already satisfied: kiwisolver>=1.0.1 in /usr/local/lib/python3.10/dist-packages (from matplotlib>=3.3->-r requirements.txt (line 6)) (1.4.5)\n",
            "Requirement already satisfied: packaging>=20.0 in /usr/local/lib/python3.10/dist-packages (from matplotlib>=3.3->-r requirements.txt (line 6)) (23.2)\n",
            "Requirement already satisfied: pyparsing>=2.3.1 in /usr/local/lib/python3.10/dist-packages (from matplotlib>=3.3->-r requirements.txt (line 6)) (3.1.1)\n",
            "Requirement already satisfied: python-dateutil>=2.7 in /usr/local/lib/python3.10/dist-packages (from matplotlib>=3.3->-r requirements.txt (line 6)) (2.8.2)\n",
            "Requirement already satisfied: charset-normalizer<4,>=2 in /usr/local/lib/python3.10/dist-packages (from requests>=2.23.0->-r requirements.txt (line 12)) (3.3.2)\n",
            "Requirement already satisfied: idna<4,>=2.5 in /usr/local/lib/python3.10/dist-packages (from requests>=2.23.0->-r requirements.txt (line 12)) (3.6)\n",
            "Requirement already satisfied: urllib3<3,>=1.21.1 in /usr/local/lib/python3.10/dist-packages (from requests>=2.23.0->-r requirements.txt (line 12)) (2.0.7)\n",
            "Requirement already satisfied: certifi>=2017.4.17 in /usr/local/lib/python3.10/dist-packages (from requests>=2.23.0->-r requirements.txt (line 12)) (2023.11.17)\n",
            "Requirement already satisfied: filelock in /usr/local/lib/python3.10/dist-packages (from torch>=1.8.0->-r requirements.txt (line 15)) (3.13.1)\n",
            "Requirement already satisfied: typing-extensions in /usr/local/lib/python3.10/dist-packages (from torch>=1.8.0->-r requirements.txt (line 15)) (4.5.0)\n",
            "Requirement already satisfied: sympy in /usr/local/lib/python3.10/dist-packages (from torch>=1.8.0->-r requirements.txt (line 15)) (1.12)\n",
            "Requirement already satisfied: networkx in /usr/local/lib/python3.10/dist-packages (from torch>=1.8.0->-r requirements.txt (line 15)) (3.2.1)\n",
            "Requirement already satisfied: jinja2 in /usr/local/lib/python3.10/dist-packages (from torch>=1.8.0->-r requirements.txt (line 15)) (3.1.3)\n",
            "Requirement already satisfied: fsspec in /usr/local/lib/python3.10/dist-packages (from torch>=1.8.0->-r requirements.txt (line 15)) (2023.6.0)\n",
            "Requirement already satisfied: triton==2.1.0 in /usr/local/lib/python3.10/dist-packages (from torch>=1.8.0->-r requirements.txt (line 15)) (2.1.0)\n",
            "Requirement already satisfied: py-cpuinfo in /usr/local/lib/python3.10/dist-packages (from ultralytics>=8.0.232->-r requirements.txt (line 18)) (9.0.0)\n",
            "Requirement already satisfied: pytz>=2020.1 in /usr/local/lib/python3.10/dist-packages (from pandas>=1.1.4->-r requirements.txt (line 27)) (2023.3.post1)\n",
            "Requirement already satisfied: smmap<6,>=3.0.1 in /usr/local/lib/python3.10/dist-packages (from gitdb<5,>=4.0.1->gitpython>=3.1.30->-r requirements.txt (line 5)) (5.0.1)\n",
            "Requirement already satisfied: six>=1.5 in /usr/local/lib/python3.10/dist-packages (from python-dateutil>=2.7->matplotlib>=3.3->-r requirements.txt (line 6)) (1.16.0)\n",
            "Requirement already satisfied: MarkupSafe>=2.0 in /usr/local/lib/python3.10/dist-packages (from jinja2->torch>=1.8.0->-r requirements.txt (line 15)) (2.1.4)\n",
            "Requirement already satisfied: mpmath>=0.19 in /usr/local/lib/python3.10/dist-packages (from sympy->torch>=1.8.0->-r requirements.txt (line 15)) (1.3.0)\n"
          ]
        }
      ],
      "source": [
        "!pip install -r requirements.txt"
      ]
    },
    {
      "cell_type": "code",
      "execution_count": null,
      "metadata": {
        "colab": {
          "background_save": true,
          "base_uri": "https://localhost:8080/"
        },
        "id": "Jg0817Rs8_Cz",
        "outputId": "55854ed7-c0d9-4dc1-cee0-cd8bb53a859e"
      },
      "outputs": [
        {
          "name": "stdout",
          "output_type": "stream",
          "text": [
            "2024-01-30 07:38:20.759993: E external/local_xla/xla/stream_executor/cuda/cuda_dnn.cc:9261] Unable to register cuDNN factory: Attempting to register factory for plugin cuDNN when one has already been registered\n",
            "2024-01-30 07:38:20.760048: E external/local_xla/xla/stream_executor/cuda/cuda_fft.cc:607] Unable to register cuFFT factory: Attempting to register factory for plugin cuFFT when one has already been registered\n",
            "2024-01-30 07:38:20.761396: E external/local_xla/xla/stream_executor/cuda/cuda_blas.cc:1515] Unable to register cuBLAS factory: Attempting to register factory for plugin cuBLAS when one has already been registered\n",
            "\u001b[34m\u001b[1mtrain: \u001b[0mweights=yolov5s.pt, cfg=, data=/content/yolov5/1.yaml, hyp=data/hyps/hyp.scratch-low.yaml, epochs=350, batch_size=2, imgsz=416, rect=False, resume=False, nosave=False, noval=False, noautoanchor=False, noplots=False, evolve=None, evolve_population=data/hyps, resume_evolve=None, bucket=, cache=ram, image_weights=False, device=, multi_scale=False, single_cls=False, optimizer=SGD, sync_bn=False, workers=8, project=runs/train, name=pcb_1st, exist_ok=False, quad=False, cos_lr=False, label_smoothing=0.0, patience=100, freeze=[0], save_period=-1, seed=0, local_rank=-1, entity=None, upload_dataset=False, bbox_interval=-1, artifact_alias=latest, ndjson_console=False, ndjson_file=False\n",
            "\u001b[34m\u001b[1mgithub: \u001b[0mup to date with https://github.com/ultralytics/yolov5 ✅\n",
            "YOLOv5 🚀 v7.0-282-g9cdbd1de Python-3.10.12 torch-2.1.0+cu121 CUDA:0 (Tesla T4, 15102MiB)\n",
            "\n",
            "\u001b[34m\u001b[1mhyperparameters: \u001b[0mlr0=0.01, lrf=0.01, momentum=0.937, weight_decay=0.0005, warmup_epochs=3.0, warmup_momentum=0.8, warmup_bias_lr=0.1, box=0.05, cls=0.5, cls_pw=1.0, obj=1.0, obj_pw=1.0, iou_t=0.2, anchor_t=4.0, fl_gamma=0.0, hsv_h=0.015, hsv_s=0.7, hsv_v=0.4, degrees=0.0, translate=0.1, scale=0.5, shear=0.0, perspective=0.0, flipud=0.0, fliplr=0.5, mosaic=1.0, mixup=0.0, copy_paste=0.0\n",
            "\u001b[34m\u001b[1mComet: \u001b[0mrun 'pip install comet_ml' to automatically track and visualize YOLOv5 🚀 runs in Comet\n",
            "\u001b[34m\u001b[1mTensorBoard: \u001b[0mStart with 'tensorboard --logdir runs/train', view at http://localhost:6006/\n",
            "Downloading https://ultralytics.com/assets/Arial.ttf to /root/.config/Ultralytics/Arial.ttf...\n",
            "100% 755k/755k [00:00<00:00, 125MB/s]\n",
            "Downloading https://github.com/ultralytics/yolov5/releases/download/v7.0/yolov5s.pt to yolov5s.pt...\n",
            "100% 14.1M/14.1M [00:00<00:00, 225MB/s]\n",
            "\n",
            "Overriding model.yaml nc=80 with nc=6\n",
            "\n",
            "                 from  n    params  module                                  arguments                     \n",
            "  0                -1  1      3520  models.common.Conv                      [3, 32, 6, 2, 2]              \n",
            "  1                -1  1     18560  models.common.Conv                      [32, 64, 3, 2]                \n",
            "  2                -1  1     18816  models.common.C3                        [64, 64, 1]                   \n",
            "  3                -1  1     73984  models.common.Conv                      [64, 128, 3, 2]               \n",
            "  4                -1  2    115712  models.common.C3                        [128, 128, 2]                 \n",
            "  5                -1  1    295424  models.common.Conv                      [128, 256, 3, 2]              \n",
            "  6                -1  3    625152  models.common.C3                        [256, 256, 3]                 \n",
            "  7                -1  1   1180672  models.common.Conv                      [256, 512, 3, 2]              \n",
            "  8                -1  1   1182720  models.common.C3                        [512, 512, 1]                 \n",
            "  9                -1  1    656896  models.common.SPPF                      [512, 512, 5]                 \n",
            " 10                -1  1    131584  models.common.Conv                      [512, 256, 1, 1]              \n",
            " 11                -1  1         0  torch.nn.modules.upsampling.Upsample    [None, 2, 'nearest']          \n",
            " 12           [-1, 6]  1         0  models.common.Concat                    [1]                           \n",
            " 13                -1  1    361984  models.common.C3                        [512, 256, 1, False]          \n",
            " 14                -1  1     33024  models.common.Conv                      [256, 128, 1, 1]              \n",
            " 15                -1  1         0  torch.nn.modules.upsampling.Upsample    [None, 2, 'nearest']          \n",
            " 16           [-1, 4]  1         0  models.common.Concat                    [1]                           \n",
            " 17                -1  1     90880  models.common.C3                        [256, 128, 1, False]          \n",
            " 18                -1  1    147712  models.common.Conv                      [128, 128, 3, 2]              \n",
            " 19          [-1, 14]  1         0  models.common.Concat                    [1]                           \n",
            " 20                -1  1    296448  models.common.C3                        [256, 256, 1, False]          \n",
            " 21                -1  1    590336  models.common.Conv                      [256, 256, 3, 2]              \n",
            " 22          [-1, 10]  1         0  models.common.Concat                    [1]                           \n",
            " 23                -1  1   1182720  models.common.C3                        [512, 512, 1, False]          \n",
            " 24      [17, 20, 23]  1     29667  models.yolo.Detect                      [6, [[10, 13, 16, 30, 33, 23], [30, 61, 62, 45, 59, 119], [116, 90, 156, 198, 373, 326]], [128, 256, 512]]\n",
            "Model summary: 214 layers, 7035811 parameters, 7035811 gradients, 16.0 GFLOPs\n",
            "\n",
            "Transferred 343/349 items from yolov5s.pt\n",
            "\u001b[34m\u001b[1mAMP: \u001b[0mchecks passed ✅\n",
            "\u001b[34m\u001b[1moptimizer:\u001b[0m SGD(lr=0.01) with parameter groups 57 weight(decay=0.0), 60 weight(decay=0.0005), 60 bias\n",
            "\u001b[34m\u001b[1malbumentations: \u001b[0mBlur(p=0.01, blur_limit=(3, 7)), MedianBlur(p=0.01, blur_limit=(3, 7)), ToGray(p=0.01), CLAHE(p=0.01, clip_limit=(1, 4.0), tile_grid_size=(8, 8))\n",
            "\u001b[34m\u001b[1mtrain: \u001b[0mScanning /content/yolov5/datasetpcb/labels/train... 88 images, 0 backgrounds, 47 corrupt: 100% 135/135 [00:02<00:00, 66.29it/s] \n",
            "\u001b[34m\u001b[1mtrain: \u001b[0mWARNING ⚠️ /content/yolov5/datasetpcb/images/train/05_mouse_bite_03.jpg: ignoring corrupt image/label: image file is truncated (3 bytes not processed)\n",
            "\u001b[34m\u001b[1mtrain: \u001b[0mWARNING ⚠️ /content/yolov5/datasetpcb/images/train/05_mouse_bite_08.jpg: ignoring corrupt image/label: image file is truncated (6 bytes not processed)\n",
            "\u001b[34m\u001b[1mtrain: \u001b[0mWARNING ⚠️ /content/yolov5/datasetpcb/images/train/05_open_circuit_07.jpg: ignoring corrupt image/label: image file is truncated (15 bytes not processed)\n",
            "\u001b[34m\u001b[1mtrain: \u001b[0mWARNING ⚠️ /content/yolov5/datasetpcb/images/train/05_short_05.jpg: ignoring corrupt image/label: image file is truncated (13 bytes not processed)\n",
            "\u001b[34m\u001b[1mtrain: \u001b[0mWARNING ⚠️ /content/yolov5/datasetpcb/images/train/05_short_08.jpg: ignoring corrupt image/label: image file is truncated (16 bytes not processed)\n",
            "\u001b[34m\u001b[1mtrain: \u001b[0mWARNING ⚠️ /content/yolov5/datasetpcb/images/train/05_short_10.jpg: ignoring corrupt image/label: image file is truncated (24 bytes not processed)\n",
            "\u001b[34m\u001b[1mtrain: \u001b[0mWARNING ⚠️ /content/yolov5/datasetpcb/images/train/05_spur_04.jpg: ignoring corrupt image/label: image file is truncated (12 bytes not processed)\n",
            "\u001b[34m\u001b[1mtrain: \u001b[0mWARNING ⚠️ /content/yolov5/datasetpcb/images/train/05_spur_09.jpg: ignoring corrupt image/label: image file is truncated (19 bytes not processed)\n",
            "\u001b[34m\u001b[1mtrain: \u001b[0mWARNING ⚠️ /content/yolov5/datasetpcb/images/train/05_spurious_copper_08.jpg: ignoring corrupt image/label: image file is truncated (9 bytes not processed)\n",
            "\u001b[34m\u001b[1mtrain: \u001b[0mWARNING ⚠️ /content/yolov5/datasetpcb/images/train/05_spurious_copper_09.jpg: ignoring corrupt image/label: image file is truncated (2 bytes not processed)\n",
            "\u001b[34m\u001b[1mtrain: \u001b[0mWARNING ⚠️ /content/yolov5/datasetpcb/images/train/05_spurious_copper_10.jpg: ignoring corrupt image/label: image file is truncated (7 bytes not processed)\n",
            "\u001b[34m\u001b[1mtrain: \u001b[0mWARNING ⚠️ /content/yolov5/datasetpcb/images/train/07_missing_hole_04.jpg: ignoring corrupt image/label: image file is truncated (5 bytes not processed)\n",
            "\u001b[34m\u001b[1mtrain: \u001b[0mWARNING ⚠️ /content/yolov5/datasetpcb/images/train/07_missing_hole_05.jpg: ignoring corrupt image/label: image file is truncated (5 bytes not processed)\n",
            "\u001b[34m\u001b[1mtrain: \u001b[0mWARNING ⚠️ /content/yolov5/datasetpcb/images/train/07_missing_hole_09.jpg: ignoring corrupt image/label: image file is truncated (2 bytes not processed)\n",
            "\u001b[34m\u001b[1mtrain: \u001b[0mWARNING ⚠️ /content/yolov5/datasetpcb/images/train/07_missing_hole_10.jpg: ignoring corrupt image/label: image file is truncated (0 bytes not processed)\n",
            "\u001b[34m\u001b[1mtrain: \u001b[0mWARNING ⚠️ /content/yolov5/datasetpcb/images/train/07_mouse_bite_01.jpg: ignoring corrupt image/label: image file is truncated (3 bytes not processed)\n",
            "\u001b[34m\u001b[1mtrain: \u001b[0mWARNING ⚠️ /content/yolov5/datasetpcb/images/train/07_mouse_bite_04.jpg: ignoring corrupt image/label: image file is truncated (3 bytes not processed)\n",
            "\u001b[34m\u001b[1mtrain: \u001b[0mWARNING ⚠️ /content/yolov5/datasetpcb/images/train/07_mouse_bite_08.jpg: ignoring corrupt image/label: image file is truncated (0 bytes not processed)\n",
            "\u001b[34m\u001b[1mtrain: \u001b[0mWARNING ⚠️ /content/yolov5/datasetpcb/images/train/07_mouse_bite_10.jpg: ignoring corrupt image/label: image file is truncated (13 bytes not processed)\n",
            "\u001b[34m\u001b[1mtrain: \u001b[0mWARNING ⚠️ /content/yolov5/datasetpcb/images/train/07_open_circuit_02.jpg: ignoring corrupt image/label: image file is truncated (0 bytes not processed)\n",
            "\u001b[34m\u001b[1mtrain: \u001b[0mWARNING ⚠️ /content/yolov5/datasetpcb/images/train/07_open_circuit_03.jpg: ignoring corrupt image/label: image file is truncated (11 bytes not processed)\n",
            "\u001b[34m\u001b[1mtrain: \u001b[0mWARNING ⚠️ /content/yolov5/datasetpcb/images/train/07_open_circuit_04.jpg: ignoring corrupt image/label: image file is truncated (24 bytes not processed)\n",
            "\u001b[34m\u001b[1mtrain: \u001b[0mWARNING ⚠️ /content/yolov5/datasetpcb/images/train/07_open_circuit_05.jpg: ignoring corrupt image/label: image file is truncated (11 bytes not processed)\n",
            "\u001b[34m\u001b[1mtrain: \u001b[0mWARNING ⚠️ /content/yolov5/datasetpcb/images/train/07_open_circuit_08.jpg: ignoring corrupt image/label: image file is truncated (6 bytes not processed)\n",
            "\u001b[34m\u001b[1mtrain: \u001b[0mWARNING ⚠️ /content/yolov5/datasetpcb/images/train/07_open_circuit_09.jpg: ignoring corrupt image/label: image file is truncated (16 bytes not processed)\n",
            "\u001b[34m\u001b[1mtrain: \u001b[0mWARNING ⚠️ /content/yolov5/datasetpcb/images/train/07_short_02.jpg: ignoring corrupt image/label: image file is truncated (2 bytes not processed)\n",
            "\u001b[34m\u001b[1mtrain: \u001b[0mWARNING ⚠️ /content/yolov5/datasetpcb/images/train/07_short_03.jpg: ignoring corrupt image/label: image file is truncated (14 bytes not processed)\n",
            "\u001b[34m\u001b[1mtrain: \u001b[0mWARNING ⚠️ /content/yolov5/datasetpcb/images/train/07_short_04.jpg: ignoring corrupt image/label: image file is truncated (8 bytes not processed)\n",
            "\u001b[34m\u001b[1mtrain: \u001b[0mWARNING ⚠️ /content/yolov5/datasetpcb/images/train/07_short_05.jpg: ignoring corrupt image/label: image file is truncated (2 bytes not processed)\n",
            "\u001b[34m\u001b[1mtrain: \u001b[0mWARNING ⚠️ /content/yolov5/datasetpcb/images/train/07_short_06.jpg: ignoring corrupt image/label: image file is truncated (4 bytes not processed)\n",
            "\u001b[34m\u001b[1mtrain: \u001b[0mWARNING ⚠️ /content/yolov5/datasetpcb/images/train/07_short_08.jpg: ignoring corrupt image/label: image file is truncated (1 bytes not processed)\n",
            "\u001b[34m\u001b[1mtrain: \u001b[0mWARNING ⚠️ /content/yolov5/datasetpcb/images/train/07_short_09.jpg: ignoring corrupt image/label: image file is truncated (0 bytes not processed)\n",
            "\u001b[34m\u001b[1mtrain: \u001b[0mWARNING ⚠️ /content/yolov5/datasetpcb/images/train/07_spur_01.jpg: ignoring corrupt image/label: image file is truncated (8 bytes not processed)\n",
            "\u001b[34m\u001b[1mtrain: \u001b[0mWARNING ⚠️ /content/yolov5/datasetpcb/images/train/07_spur_02.jpg: ignoring corrupt image/label: image file is truncated (10 bytes not processed)\n",
            "\u001b[34m\u001b[1mtrain: \u001b[0mWARNING ⚠️ /content/yolov5/datasetpcb/images/train/07_spur_05.jpg: ignoring corrupt image/label: image file is truncated (15 bytes not processed)\n",
            "\u001b[34m\u001b[1mtrain: \u001b[0mWARNING ⚠️ /content/yolov5/datasetpcb/images/train/07_spur_07.jpg: ignoring corrupt image/label: image file is truncated (1 bytes not processed)\n",
            "\u001b[34m\u001b[1mtrain: \u001b[0mWARNING ⚠️ /content/yolov5/datasetpcb/images/train/07_spur_09.jpg: ignoring corrupt image/label: image file is truncated (6 bytes not processed)\n",
            "\u001b[34m\u001b[1mtrain: \u001b[0mWARNING ⚠️ /content/yolov5/datasetpcb/images/train/07_spur_10.jpg: ignoring corrupt image/label: image file is truncated (26 bytes not processed)\n",
            "\u001b[34m\u001b[1mtrain: \u001b[0mWARNING ⚠️ /content/yolov5/datasetpcb/images/train/07_spurious_copper_01.jpg: ignoring corrupt image/label: image file is truncated (3 bytes not processed)\n",
            "\u001b[34m\u001b[1mtrain: \u001b[0mWARNING ⚠️ /content/yolov5/datasetpcb/images/train/07_spurious_copper_03.jpg: ignoring corrupt image/label: image file is truncated (5 bytes not processed)\n",
            "\u001b[34m\u001b[1mtrain: \u001b[0mWARNING ⚠️ /content/yolov5/datasetpcb/images/train/07_spurious_copper_04.jpg: ignoring corrupt image/label: image file is truncated (6 bytes not processed)\n",
            "\u001b[34m\u001b[1mtrain: \u001b[0mWARNING ⚠️ /content/yolov5/datasetpcb/images/train/07_spurious_copper_05.jpg: ignoring corrupt image/label: image file is truncated (13 bytes not processed)\n",
            "\u001b[34m\u001b[1mtrain: \u001b[0mWARNING ⚠️ /content/yolov5/datasetpcb/images/train/07_spurious_copper_06.jpg: ignoring corrupt image/label: image file is truncated (0 bytes not processed)\n",
            "\u001b[34m\u001b[1mtrain: \u001b[0mWARNING ⚠️ /content/yolov5/datasetpcb/images/train/07_spurious_copper_07.jpg: ignoring corrupt image/label: image file is truncated (4 bytes not processed)\n",
            "\u001b[34m\u001b[1mtrain: \u001b[0mWARNING ⚠️ /content/yolov5/datasetpcb/images/train/07_spurious_copper_08.jpg: ignoring corrupt image/label: image file is truncated (4 bytes not processed)\n",
            "\u001b[34m\u001b[1mtrain: \u001b[0mWARNING ⚠️ /content/yolov5/datasetpcb/images/train/07_spurious_copper_09.jpg: ignoring corrupt image/label: image file is truncated (1 bytes not processed)\n",
            "\u001b[34m\u001b[1mtrain: \u001b[0mWARNING ⚠️ /content/yolov5/datasetpcb/images/train/07_spurious_copper_10.jpg: ignoring corrupt image/label: image file is truncated (4 bytes not processed)\n",
            "\u001b[34m\u001b[1mtrain: \u001b[0mNew cache created: /content/yolov5/datasetpcb/labels/train.cache\n",
            "\u001b[34m\u001b[1mtrain: \u001b[0mCaching images (0.0GB ram): 100% 88/88 [00:07<00:00, 11.05it/s]\n",
            "\u001b[34m\u001b[1mval: \u001b[0mScanning /content/yolov5/datasetpcb/labels/val... 97 images, 0 backgrounds, 2 corrupt: 100% 99/99 [00:00<00:00, 224.75it/s]\n",
            "\u001b[34m\u001b[1mval: \u001b[0mWARNING ⚠️ /content/yolov5/datasetpcb/images/val/07_mouse_bite_06.jpg: ignoring corrupt image/label: image file is truncated (2 bytes not processed)\n",
            "\u001b[34m\u001b[1mval: \u001b[0mWARNING ⚠️ /content/yolov5/datasetpcb/images/val/12_spurious_copper_10.jpg: ignoring corrupt image/label: image file is truncated (0 bytes not processed)\n",
            "\u001b[34m\u001b[1mval: \u001b[0mNew cache created: /content/yolov5/datasetpcb/labels/val.cache\n",
            "\u001b[34m\u001b[1mval: \u001b[0mCaching images (0.0GB ram): 100% 97/97 [00:11<00:00,  8.39it/s]\n",
            "\n",
            "\u001b[34m\u001b[1mAutoAnchor: \u001b[0m3.49 anchors/target, 1.000 Best Possible Recall (BPR). Current anchors are a good fit to dataset ✅\n",
            "Plotting labels to runs/train/pcb_1st2/labels.jpg... \n",
            "Image sizes 416 train, 416 val\n",
            "Using 2 dataloader workers\n",
            "Logging results to \u001b[1mruns/train/pcb_1st2\u001b[0m\n",
            "Starting training for 350 epochs...\n",
            "\n",
            "      Epoch    GPU_mem   box_loss   obj_loss   cls_loss  Instances       Size\n",
            "      0/349     0.459G    0.09575    0.01825    0.03902         25        416: 100% 44/44 [00:06<00:00,  6.59it/s]\n",
            "                 Class     Images  Instances          P          R      mAP50   mAP50-95: 100% 25/25 [00:03<00:00,  7.61it/s]\n",
            "                   all         97        427          0          0          0          0\n",
            "\n",
            "      Epoch    GPU_mem   box_loss   obj_loss   cls_loss  Instances       Size\n",
            "      1/349     0.459G     0.0889    0.01869     0.0367         27        416: 100% 44/44 [00:03<00:00, 11.29it/s]\n",
            "                 Class     Images  Instances          P          R      mAP50   mAP50-95: 100% 25/25 [00:01<00:00, 19.73it/s]\n",
            "                   all         97        427          0          0          0          0\n",
            "\n",
            "      Epoch    GPU_mem   box_loss   obj_loss   cls_loss  Instances       Size\n",
            "      2/349     0.459G    0.08828    0.01939    0.03692         19        416: 100% 44/44 [00:03<00:00, 11.56it/s]\n",
            "                 Class     Images  Instances          P          R      mAP50   mAP50-95: 100% 25/25 [00:01<00:00, 18.60it/s]\n",
            "                   all         97        427          0          0          0          0\n",
            "\n",
            "      Epoch    GPU_mem   box_loss   obj_loss   cls_loss  Instances       Size\n",
            "      3/349     0.459G    0.08873    0.01852    0.03599         18        416: 100% 44/44 [00:03<00:00, 13.29it/s]\n",
            "                 Class     Images  Instances          P          R      mAP50   mAP50-95: 100% 25/25 [00:01<00:00, 15.57it/s]\n",
            "                   all         97        427          0          0          0          0\n",
            "\n",
            "      Epoch    GPU_mem   box_loss   obj_loss   cls_loss  Instances       Size\n",
            "      4/349     0.459G    0.08632    0.01808    0.03591         15        416: 100% 44/44 [00:02<00:00, 14.96it/s]\n",
            "                 Class     Images  Instances          P          R      mAP50   mAP50-95: 100% 25/25 [00:01<00:00, 21.92it/s]\n",
            "                   all         97        427          0          0          0          0\n",
            "\n",
            "      Epoch    GPU_mem   box_loss   obj_loss   cls_loss  Instances       Size\n",
            "      5/349     0.459G    0.08843    0.01807    0.03584         10        416: 100% 44/44 [00:02<00:00, 15.08it/s]\n",
            "                 Class     Images  Instances          P          R      mAP50   mAP50-95: 100% 25/25 [00:01<00:00, 22.34it/s]\n",
            "                   all         97        427          0          0          0          0\n",
            "\n",
            "      Epoch    GPU_mem   box_loss   obj_loss   cls_loss  Instances       Size\n",
            "      6/349     0.459G    0.08344    0.01832     0.0334         21        416: 100% 44/44 [00:03<00:00, 11.75it/s]\n",
            "                 Class     Images  Instances          P          R      mAP50   mAP50-95: 100% 25/25 [00:01<00:00, 22.40it/s]\n",
            "                   all         97        427          0          0          0          0\n",
            "\n",
            "      Epoch    GPU_mem   box_loss   obj_loss   cls_loss  Instances       Size\n",
            "      7/349     0.459G    0.08322    0.02128    0.03339         23        416: 100% 44/44 [00:02<00:00, 15.15it/s]\n",
            "                 Class     Images  Instances          P          R      mAP50   mAP50-95: 100% 25/25 [00:01<00:00, 22.75it/s]\n",
            "                   all         97        427          0          0          0          0\n",
            "\n",
            "      Epoch    GPU_mem   box_loss   obj_loss   cls_loss  Instances       Size\n",
            "      8/349     0.459G    0.08526    0.01927    0.03457         19        416: 100% 44/44 [00:03<00:00, 13.37it/s]\n",
            "                 Class     Images  Instances          P          R      mAP50   mAP50-95: 100% 25/25 [00:01<00:00, 15.81it/s]\n",
            "                   all         97        427          0          0          0          0\n",
            "\n",
            "      Epoch    GPU_mem   box_loss   obj_loss   cls_loss  Instances       Size\n",
            "      9/349     0.459G    0.08163    0.02168    0.03267          9        416: 100% 44/44 [00:03<00:00, 14.25it/s]\n",
            "                 Class     Images  Instances          P          R      mAP50   mAP50-95: 100% 25/25 [00:01<00:00, 15.12it/s]\n",
            "                   all         97        427   8.72e-05    0.00231   4.53e-05   1.36e-05\n",
            "\n",
            "      Epoch    GPU_mem   box_loss   obj_loss   cls_loss  Instances       Size\n",
            "     10/349     0.459G    0.07632    0.02066    0.03067          8        416: 100% 44/44 [00:02<00:00, 15.15it/s]\n",
            "                 Class     Images  Instances          P          R      mAP50   mAP50-95: 100% 25/25 [00:01<00:00, 19.26it/s]\n",
            "                   all         97        427    0.00044    0.00908   0.000233    4.6e-05\n",
            "\n",
            "      Epoch    GPU_mem   box_loss   obj_loss   cls_loss  Instances       Size\n",
            "     11/349     0.459G     0.0793    0.02189    0.03134         18        416: 100% 44/44 [00:04<00:00, 10.33it/s]\n",
            "                 Class     Images  Instances          P          R      mAP50   mAP50-95: 100% 25/25 [00:01<00:00, 21.82it/s]\n",
            "                   all         97        427   0.000149    0.00445   0.000116    1.7e-05\n",
            "\n",
            "      Epoch    GPU_mem   box_loss   obj_loss   cls_loss  Instances       Size\n",
            "     12/349     0.459G     0.0736    0.02006    0.03119          9        416: 100% 44/44 [00:02<00:00, 15.32it/s]\n",
            "                 Class     Images  Instances          P          R      mAP50   mAP50-95: 100% 25/25 [00:01<00:00, 22.58it/s]\n",
            "                   all         97        427   0.000429     0.0161   0.000287   4.36e-05\n",
            "\n",
            "      Epoch    GPU_mem   box_loss   obj_loss   cls_loss  Instances       Size\n",
            "     13/349     0.459G    0.08076    0.02146    0.03221         10        416: 100% 44/44 [00:03<00:00, 11.63it/s]\n",
            "                 Class     Images  Instances          P          R      mAP50   mAP50-95: 100% 25/25 [00:01<00:00, 21.52it/s]\n",
            "                   all         97        427   0.000313      0.016   0.000268   5.55e-05\n",
            "\n",
            "      Epoch    GPU_mem   box_loss   obj_loss   cls_loss  Instances       Size\n",
            "     14/349     0.459G    0.08002    0.02093    0.03293         10        416: 100% 44/44 [00:02<00:00, 14.71it/s]\n",
            "                 Class     Images  Instances          P          R      mAP50   mAP50-95: 100% 25/25 [00:01<00:00, 21.08it/s]\n",
            "                   all         97        427   0.000839     0.0289    0.00303   0.000611\n",
            "\n",
            "      Epoch    GPU_mem   box_loss   obj_loss   cls_loss  Instances       Size\n",
            "     15/349     0.459G     0.0729    0.02111    0.02933         17        416: 100% 44/44 [00:02<00:00, 15.00it/s]\n",
            "                 Class     Images  Instances          P          R      mAP50   mAP50-95: 100% 25/25 [00:01<00:00, 15.74it/s]\n",
            "                   all         97        427   0.000894     0.0302    0.00306   0.000627\n",
            "\n",
            "      Epoch    GPU_mem   box_loss   obj_loss   cls_loss  Instances       Size\n",
            "     16/349     0.459G    0.07605    0.02142    0.03043         18        416: 100% 44/44 [00:03<00:00, 14.52it/s]\n",
            "                 Class     Images  Instances          P          R      mAP50   mAP50-95: 100% 25/25 [00:01<00:00, 20.51it/s]\n",
            "                   all         97        427   0.000934     0.0453   0.000944   0.000228\n",
            "\n",
            "      Epoch    GPU_mem   box_loss   obj_loss   cls_loss  Instances       Size\n",
            "     17/349     0.459G    0.07613    0.02184    0.02895         13        416: 100% 44/44 [00:02<00:00, 15.06it/s]\n",
            "                 Class     Images  Instances          P          R      mAP50   mAP50-95: 100% 25/25 [00:01<00:00, 21.29it/s]\n",
            "                   all         97        427   0.000821     0.0515   0.000791   0.000166\n",
            "\n",
            "      Epoch    GPU_mem   box_loss   obj_loss   cls_loss  Instances       Size\n",
            "     18/349     0.459G      0.078    0.02225    0.03015         10        416: 100% 44/44 [00:03<00:00, 11.58it/s]\n",
            "                 Class     Images  Instances          P          R      mAP50   mAP50-95: 100% 25/25 [00:01<00:00, 18.85it/s]\n",
            "                   all         97        427   0.000784     0.0621   0.000888   0.000167\n",
            "\n",
            "      Epoch    GPU_mem   box_loss   obj_loss   cls_loss  Instances       Size\n",
            "     19/349     0.459G    0.07755    0.02163    0.03014         25        416: 100% 44/44 [00:03<00:00, 11.63it/s]\n",
            "                 Class     Images  Instances          P          R      mAP50   mAP50-95: 100% 25/25 [00:01<00:00, 21.52it/s]\n",
            "                   all         97        427    0.00074     0.0695     0.0012    0.00024\n",
            "\n",
            "      Epoch    GPU_mem   box_loss   obj_loss   cls_loss  Instances       Size\n",
            "     20/349     0.459G    0.07452    0.02314    0.02959         13        416: 100% 44/44 [00:03<00:00, 14.59it/s]\n",
            "                 Class     Images  Instances          P          R      mAP50   mAP50-95: 100% 25/25 [00:01<00:00, 14.67it/s]\n",
            "                   all         97        427   0.000827     0.0785    0.00112   0.000241\n",
            "\n",
            "      Epoch    GPU_mem   box_loss   obj_loss   cls_loss  Instances       Size\n",
            "     21/349     0.459G    0.07579    0.02265    0.03083         12        416: 100% 44/44 [00:02<00:00, 15.09it/s]\n",
            "                 Class     Images  Instances          P          R      mAP50   mAP50-95: 100% 25/25 [00:01<00:00, 21.46it/s]\n",
            "                   all         97        427   0.000633     0.0808     0.0012   0.000237\n",
            "\n",
            "      Epoch    GPU_mem   box_loss   obj_loss   cls_loss  Instances       Size\n",
            "     22/349     0.459G     0.0797    0.02109    0.03082         17        416: 100% 44/44 [00:02<00:00, 15.05it/s]\n",
            "                 Class     Images  Instances          P          R      mAP50   mAP50-95: 100% 25/25 [00:01<00:00, 21.56it/s]\n",
            "                   all         97        427   0.000731     0.0783    0.00129   0.000284\n",
            "\n",
            "      Epoch    GPU_mem   box_loss   obj_loss   cls_loss  Instances       Size\n",
            "     23/349     0.459G    0.07454    0.02255    0.02999         11        416: 100% 44/44 [00:03<00:00, 11.92it/s]\n",
            "                 Class     Images  Instances          P          R      mAP50   mAP50-95: 100% 25/25 [00:01<00:00, 21.35it/s]\n",
            "                   all         97        427    0.00107     0.0902    0.00185   0.000394\n",
            "Traceback (most recent call last):\n",
            "  File \"/content/yolov5/train.py\", line 836, in <module>\n",
            "  File \"/content/yolov5/train.py\", line 616, in main\n",
            "    train(opt.hyp, opt, device, callbacks)\n",
            "  File \"/content/yolov5/train.py\", line 457, in train\n",
            "    torch.save(ckpt, last)\n",
            "  File \"/usr/local/lib/python3.10/dist-packages/ultralytics/utils/patches.py\", line 82, in torch_save\n",
            "    return _torch_save(*args, **kwargs)\n",
            "  File \"/usr/local/lib/python3.10/dist-packages/torch/serialization.py\", line 619, in save\n",
            "    _save(obj, opened_zipfile, pickle_module, pickle_protocol, _disable_byteorder_record)\n",
            "  File \"/usr/local/lib/python3.10/dist-packages/torch/serialization.py\", line 853, in _save\n",
            "    zip_file.write_record(name, storage.data_ptr(), num_bytes)\n",
            "KeyboardInterrupt\n"
          ]
        }
      ],
      "source": [
        "!python /content/yolov5/train.py --img 416 --batch 2 --epochs 350 --data /content/yolov5/1.yaml --weights yolov5s.pt --cache --name pcb_1st"
      ]
    },
    {
      "cell_type": "code",
      "execution_count": null,
      "metadata": {
        "colab": {
          "base_uri": "https://localhost:8080/"
        },
        "id": "kZq37rmSQBdG",
        "outputId": "20bfe393-82b6-4a92-9472-24e45bb32c68"
      },
      "outputs": [
        {
          "name": "stdout",
          "output_type": "stream",
          "text": [
            "  adding: content/yolov5/runs/ (stored 0%)\n",
            "  adding: content/yolov5/runs/train/ (stored 0%)\n",
            "  adding: content/yolov5/runs/train/pcb_1st12.zip (stored 0%)\n",
            "  adding: content/yolov5/runs/train/pcb_1st/ (stored 0%)\n",
            "  adding: content/yolov5/runs/train/pcb_1st/weights/ (stored 0%)\n",
            "  adding: content/yolov5/runs/train/pcb_1st/weights/best.pt (deflated 8%)\n",
            "  adding: content/yolov5/runs/train/pcb_1st/weights/last.pt (deflated 8%)\n",
            "  adding: content/yolov5/runs/train/pcb_1st/hyp.yaml (deflated 45%)\n",
            "  adding: content/yolov5/runs/train/pcb_1st/train_batch1.jpg (deflated 10%)\n",
            "  adding: content/yolov5/runs/train/pcb_1st/results.csv (deflated 84%)\n",
            "  adding: content/yolov5/runs/train/pcb_1st/train_batch0.jpg (deflated 12%)\n",
            "  adding: content/yolov5/runs/train/pcb_1st/val_batch0_pred.jpg (deflated 15%)\n",
            "  adding: content/yolov5/runs/train/pcb_1st/confusion_matrix.png (deflated 21%)\n",
            "  adding: content/yolov5/runs/train/pcb_1st/val_batch1_pred.jpg (deflated 14%)\n",
            "  adding: content/yolov5/runs/train/pcb_1st/labels_correlogram.jpg (deflated 37%)\n",
            "  adding: content/yolov5/runs/train/pcb_1st/val_batch2_pred.jpg (deflated 15%)\n",
            "  adding: content/yolov5/runs/train/pcb_1st/results.png (deflated 8%)\n",
            "  adding: content/yolov5/runs/train/pcb_1st/P_curve.png (deflated 11%)\n",
            "  adding: content/yolov5/runs/train/pcb_1st/F1_curve.png (deflated 7%)\n",
            "  adding: content/yolov5/runs/train/pcb_1st/val_batch1_labels.jpg (deflated 16%)\n",
            "  adding: content/yolov5/runs/train/pcb_1st/PR_curve.png (deflated 11%)\n",
            "  adding: content/yolov5/runs/train/pcb_1st/val_batch0_labels.jpg (deflated 14%)\n",
            "  adding: content/yolov5/runs/train/pcb_1st/val_batch2_labels.jpg (deflated 13%)\n",
            "  adding: content/yolov5/runs/train/pcb_1st/events.out.tfevents.1706072185.1b4b7afa05c6.6212.0 (deflated 31%)\n",
            "  adding: content/yolov5/runs/train/pcb_1st/labels.jpg (deflated 28%)\n",
            "  adding: content/yolov5/runs/train/pcb_1st/opt.yaml (deflated 50%)\n",
            "  adding: content/yolov5/runs/train/pcb_1st/train_batch2.jpg (deflated 12%)\n",
            "  adding: content/yolov5/runs/train/pcb_1st/R_curve.png (deflated 8%)\n"
          ]
        }
      ],
      "source": [
        "!zip -r /content/yolov5/runs/train/pcb_1st /content/yolov5/runs\n"
      ]
    },
    {
      "cell_type": "code",
      "execution_count": null,
      "metadata": {
        "colab": {
          "base_uri": "https://localhost:8080/"
        },
        "id": "bwRqN6qPQQjN",
        "outputId": "d7b5bec3-bb77-45f0-ed79-95c3308d892e"
      },
      "outputs": [
        {
          "name": "stdout",
          "output_type": "stream",
          "text": [
            "\u001b[34m\u001b[1mval: \u001b[0mdata=/content/yolov5/1.yaml, weights=['/content/yolov5/runs/train/pcb_1st/weights/best.pt'], batch_size=32, imgsz=640, conf_thres=0.001, iou_thres=0.6, max_det=300, task=val, device=, workers=8, single_cls=False, augment=False, verbose=False, save_txt=False, save_hybrid=False, save_conf=False, save_json=False, project=runs/val, name=exp, exist_ok=False, half=False, dnn=False\n",
            "YOLOv5 🚀 v7.0-278-g050c72c Python-3.10.12 torch-2.1.0+cu121 CUDA:0 (Tesla T4, 15102MiB)\n",
            "\n",
            "Fusing layers... \n",
            "Model summary: 157 layers, 7026307 parameters, 0 gradients, 15.8 GFLOPs\n",
            "\u001b[34m\u001b[1mval: \u001b[0mScanning /content/yolov5/datasetpcb/labels/val.cache... 138 images, 0 backgrounds, 0 corrupt: 100% 138/138 [00:00<?, ?it/s]\n",
            "                 Class     Images  Instances          P          R      mAP50   mAP50-95: 100% 5/5 [00:21<00:00,  4.40s/it]\n",
            "                   all        138        595       0.84      0.758      0.812      0.395\n",
            "          missing_hole        138         98      0.599      0.765      0.776      0.407\n",
            "            mouse_bite        138        100      0.918      0.675      0.734      0.337\n",
            "          open_circuit        138         99      0.886      0.717      0.806      0.406\n",
            "                 short        138         97      0.958       0.94      0.938      0.483\n",
            "                  spur        138         99      0.772      0.677       0.76      0.336\n",
            "       spurious_copper        138        102      0.908      0.772      0.859      0.401\n",
            "Speed: 1.3ms pre-process, 10.5ms inference, 10.7ms NMS per image at shape (32, 3, 640, 640)\n",
            "Results saved to \u001b[1mruns/val/exp\u001b[0m\n"
          ]
        }
      ],
      "source": [
        "!python val.py --weights  /content/yolov5/runs/train/pcb_1st/weights/best.pt --data /content/yolov5/1.yaml"
      ]
    },
    {
      "cell_type": "code",
      "execution_count": null,
      "metadata": {
        "colab": {
          "base_uri": "https://localhost:8080/"
        },
        "id": "r696aGWi42Yr",
        "outputId": "8edaa8ce-9026-48f6-bfd9-e6ffce64395b"
      },
      "outputs": [
        {
          "name": "stdout",
          "output_type": "stream",
          "text": [
            "\u001b[34m\u001b[1mdetect: \u001b[0mweights=['/content/yolov5/runs/train/pcb_1st/weights/best.pt'], source=/content/yolov5/datasetpcb/images/train/01_missing_hole_02.jpg, data=data/coco128.yaml, imgsz=[640, 640], conf_thres=0.25, iou_thres=0.45, max_det=1000, device=, view_img=False, save_txt=False, save_csv=False, save_conf=False, save_crop=False, nosave=False, classes=None, agnostic_nms=False, augment=False, visualize=False, update=False, project=runs/detect, name=exp, exist_ok=False, line_thickness=3, hide_labels=False, hide_conf=False, half=False, dnn=False, vid_stride=1\n",
            "YOLOv5 🚀 v7.0-278-g050c72c Python-3.10.12 torch-2.1.0+cu121 CUDA:0 (Tesla T4, 15102MiB)\n",
            "\n",
            "Fusing layers... \n",
            "Model summary: 157 layers, 7026307 parameters, 0 gradients, 15.8 GFLOPs\n",
            "WARNING ⚠️ NMS time limit 0.550s exceeded\n",
            "image 1/1 /content/yolov5/datasetpcb/images/train/01_missing_hole_02.jpg: 352x640 4 missing_holes, 1 spurious_copper, 59.1ms\n",
            "Speed: 0.6ms pre-process, 59.1ms inference, 568.7ms NMS per image at shape (1, 3, 640, 640)\n",
            "Results saved to \u001b[1mruns/detect/exp3\u001b[0m\n"
          ]
        }
      ],
      "source": [
        "!python detect.py --source /content/yolov5/datasetpcb/images/train/01_missing_hole_02.jpg --weights /content/yolov5/runs/train/pcb_1st/weights/best.pt"
      ]
    },
    {
      "cell_type": "code",
      "execution_count": null,
      "metadata": {
        "id": "Xb8cGyenQVTq"
      },
      "outputs": [],
      "source": [
        "\n"
      ]
    },
    {
      "cell_type": "code",
      "execution_count": null,
      "metadata": {
        "id": "R27xSG5NsFSp"
      },
      "outputs": [],
      "source": []
    },
    {
      "cell_type": "markdown",
      "metadata": {
        "id": "YK27lXsiMW53"
      },
      "source": []
    }
  ],
  "metadata": {
    "accelerator": "GPU",
    "colab": {
      "provenance": [],
      "gpuType": "T4",
      "authorship_tag": "ABX9TyPSZ33nuU0Oq+OUFcdUVzri",
      "include_colab_link": true
    },
    "kernelspec": {
      "display_name": "Python 3",
      "name": "python3"
    },
    "language_info": {
      "name": "python"
    }
  },
  "nbformat": 4,
  "nbformat_minor": 0
}