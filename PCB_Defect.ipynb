{
  "cells": [
    {
      "cell_type": "markdown",
      "metadata": {
        "id": "view-in-github",
        "colab_type": "text"
      },
      "source": [
        "<a href=\"https://colab.research.google.com/github/Najo2311/PCB-Defect-Detection/blob/main/PCB_Defect.ipynb\" target=\"_parent\"><img src=\"https://colab.research.google.com/assets/colab-badge.svg\" alt=\"Open In Colab\"/></a>"
      ]
    },
    {
      "cell_type": "code",
      "source": [
        "!git clone https://github.com/ultralytics/yolov5.git"
      ],
      "metadata": {
        "id": "fMSpWhPogozL",
        "colab": {
          "base_uri": "https://localhost:8080/"
        },
        "outputId": "cf301c2d-8a09-4135-a47a-9604dae921a3"
      },
      "execution_count": 5,
      "outputs": [
        {
          "output_type": "stream",
          "name": "stdout",
          "text": [
            "fatal: destination path 'yolov5' already exists and is not an empty directory.\n"
          ]
        }
      ]
    },
    {
      "cell_type": "code",
      "source": [
        "%cd yolov5"
      ],
      "metadata": {
        "id": "AvGPRPRLnV75",
        "colab": {
          "base_uri": "https://localhost:8080/"
        },
        "outputId": "eb2c3f85-c3dd-47a4-c6bf-288084a77f2c"
      },
      "execution_count": 2,
      "outputs": [
        {
          "output_type": "stream",
          "name": "stdout",
          "text": [
            "/content/yolov5\n"
          ]
        }
      ]
    },
    {
      "cell_type": "code",
      "execution_count": 6,
      "metadata": {
        "colab": {
          "base_uri": "https://localhost:8080/"
        },
        "id": "lVrOebzcuk9v",
        "outputId": "ae821e75-cc3c-4832-bc14-2925a1c14c81"
      },
      "outputs": [
        {
          "output_type": "stream",
          "name": "stdout",
          "text": [
            "1.yaml           \u001b[0m\u001b[01;34mdata\u001b[0m/        LICENSE         README.zh-CN.md   tutorial.ipynb\n",
            "benchmarks.py    \u001b[01;34mdatasetpcb\u001b[0m/  \u001b[01;34mmodels\u001b[0m/         requirements.txt  \u001b[01;34mutils\u001b[0m/\n",
            "CITATION.cff     detect.py    \u001b[01;34m__pycache__\u001b[0m/    \u001b[01;34mruns\u001b[0m/             val.py\n",
            "\u001b[01;34mclassify\u001b[0m/        export.py    pyproject.toml  \u001b[01;34msegment\u001b[0m/          \u001b[01;34myolov5\u001b[0m/\n",
            "CONTRIBUTING.md  hubconf.py   README.md       train.py          yolov5s.pt\n"
          ]
        }
      ],
      "source": [
        "ls"
      ]
    },
    {
      "cell_type": "code",
      "execution_count": 7,
      "metadata": {
        "id": "2Oy-iMQtulAu",
        "colab": {
          "base_uri": "https://localhost:8080/"
        },
        "outputId": "df56002e-ca26-4a00-fe40-c3194bf09158"
      },
      "outputs": [
        {
          "output_type": "stream",
          "name": "stdout",
          "text": [
            "Requirement already satisfied: gitpython>=3.1.30 in /usr/local/lib/python3.10/dist-packages (from -r requirements.txt (line 5)) (3.1.41)\n",
            "Requirement already satisfied: matplotlib>=3.3 in /usr/local/lib/python3.10/dist-packages (from -r requirements.txt (line 6)) (3.7.1)\n",
            "Requirement already satisfied: numpy>=1.23.5 in /usr/local/lib/python3.10/dist-packages (from -r requirements.txt (line 7)) (1.23.5)\n",
            "Requirement already satisfied: opencv-python>=4.1.1 in /usr/local/lib/python3.10/dist-packages (from -r requirements.txt (line 8)) (4.8.0.76)\n",
            "Requirement already satisfied: Pillow>=10.0.1 in /usr/local/lib/python3.10/dist-packages (from -r requirements.txt (line 9)) (10.2.0)\n",
            "Requirement already satisfied: psutil in /usr/local/lib/python3.10/dist-packages (from -r requirements.txt (line 10)) (5.9.5)\n",
            "Requirement already satisfied: PyYAML>=5.3.1 in /usr/local/lib/python3.10/dist-packages (from -r requirements.txt (line 11)) (6.0.1)\n",
            "Requirement already satisfied: requests>=2.23.0 in /usr/local/lib/python3.10/dist-packages (from -r requirements.txt (line 12)) (2.31.0)\n",
            "Requirement already satisfied: scipy>=1.4.1 in /usr/local/lib/python3.10/dist-packages (from -r requirements.txt (line 13)) (1.11.4)\n",
            "Requirement already satisfied: thop>=0.1.1 in /usr/local/lib/python3.10/dist-packages (from -r requirements.txt (line 14)) (0.1.1.post2209072238)\n",
            "Requirement already satisfied: torch>=1.8.0 in /usr/local/lib/python3.10/dist-packages (from -r requirements.txt (line 15)) (2.1.0+cu121)\n",
            "Requirement already satisfied: torchvision>=0.9.0 in /usr/local/lib/python3.10/dist-packages (from -r requirements.txt (line 16)) (0.16.0+cu121)\n",
            "Requirement already satisfied: tqdm>=4.64.0 in /usr/local/lib/python3.10/dist-packages (from -r requirements.txt (line 17)) (4.66.1)\n",
            "Requirement already satisfied: ultralytics>=8.0.232 in /usr/local/lib/python3.10/dist-packages (from -r requirements.txt (line 18)) (8.1.5)\n",
            "Requirement already satisfied: pandas>=1.1.4 in /usr/local/lib/python3.10/dist-packages (from -r requirements.txt (line 27)) (1.5.3)\n",
            "Requirement already satisfied: seaborn>=0.11.0 in /usr/local/lib/python3.10/dist-packages (from -r requirements.txt (line 28)) (0.13.1)\n",
            "Requirement already satisfied: setuptools>=65.5.1 in /usr/local/lib/python3.10/dist-packages (from -r requirements.txt (line 42)) (67.7.2)\n",
            "Requirement already satisfied: gitdb<5,>=4.0.1 in /usr/local/lib/python3.10/dist-packages (from gitpython>=3.1.30->-r requirements.txt (line 5)) (4.0.11)\n",
            "Requirement already satisfied: contourpy>=1.0.1 in /usr/local/lib/python3.10/dist-packages (from matplotlib>=3.3->-r requirements.txt (line 6)) (1.2.0)\n",
            "Requirement already satisfied: cycler>=0.10 in /usr/local/lib/python3.10/dist-packages (from matplotlib>=3.3->-r requirements.txt (line 6)) (0.12.1)\n",
            "Requirement already satisfied: fonttools>=4.22.0 in /usr/local/lib/python3.10/dist-packages (from matplotlib>=3.3->-r requirements.txt (line 6)) (4.47.2)\n",
            "Requirement already satisfied: kiwisolver>=1.0.1 in /usr/local/lib/python3.10/dist-packages (from matplotlib>=3.3->-r requirements.txt (line 6)) (1.4.5)\n",
            "Requirement already satisfied: packaging>=20.0 in /usr/local/lib/python3.10/dist-packages (from matplotlib>=3.3->-r requirements.txt (line 6)) (23.2)\n",
            "Requirement already satisfied: pyparsing>=2.3.1 in /usr/local/lib/python3.10/dist-packages (from matplotlib>=3.3->-r requirements.txt (line 6)) (3.1.1)\n",
            "Requirement already satisfied: python-dateutil>=2.7 in /usr/local/lib/python3.10/dist-packages (from matplotlib>=3.3->-r requirements.txt (line 6)) (2.8.2)\n",
            "Requirement already satisfied: charset-normalizer<4,>=2 in /usr/local/lib/python3.10/dist-packages (from requests>=2.23.0->-r requirements.txt (line 12)) (3.3.2)\n",
            "Requirement already satisfied: idna<4,>=2.5 in /usr/local/lib/python3.10/dist-packages (from requests>=2.23.0->-r requirements.txt (line 12)) (3.6)\n",
            "Requirement already satisfied: urllib3<3,>=1.21.1 in /usr/local/lib/python3.10/dist-packages (from requests>=2.23.0->-r requirements.txt (line 12)) (2.0.7)\n",
            "Requirement already satisfied: certifi>=2017.4.17 in /usr/local/lib/python3.10/dist-packages (from requests>=2.23.0->-r requirements.txt (line 12)) (2023.11.17)\n",
            "Requirement already satisfied: filelock in /usr/local/lib/python3.10/dist-packages (from torch>=1.8.0->-r requirements.txt (line 15)) (3.13.1)\n",
            "Requirement already satisfied: typing-extensions in /usr/local/lib/python3.10/dist-packages (from torch>=1.8.0->-r requirements.txt (line 15)) (4.5.0)\n",
            "Requirement already satisfied: sympy in /usr/local/lib/python3.10/dist-packages (from torch>=1.8.0->-r requirements.txt (line 15)) (1.12)\n",
            "Requirement already satisfied: networkx in /usr/local/lib/python3.10/dist-packages (from torch>=1.8.0->-r requirements.txt (line 15)) (3.2.1)\n",
            "Requirement already satisfied: jinja2 in /usr/local/lib/python3.10/dist-packages (from torch>=1.8.0->-r requirements.txt (line 15)) (3.1.3)\n",
            "Requirement already satisfied: fsspec in /usr/local/lib/python3.10/dist-packages (from torch>=1.8.0->-r requirements.txt (line 15)) (2023.6.0)\n",
            "Requirement already satisfied: triton==2.1.0 in /usr/local/lib/python3.10/dist-packages (from torch>=1.8.0->-r requirements.txt (line 15)) (2.1.0)\n",
            "Requirement already satisfied: py-cpuinfo in /usr/local/lib/python3.10/dist-packages (from ultralytics>=8.0.232->-r requirements.txt (line 18)) (9.0.0)\n",
            "Requirement already satisfied: pytz>=2020.1 in /usr/local/lib/python3.10/dist-packages (from pandas>=1.1.4->-r requirements.txt (line 27)) (2023.3.post1)\n",
            "Requirement already satisfied: smmap<6,>=3.0.1 in /usr/local/lib/python3.10/dist-packages (from gitdb<5,>=4.0.1->gitpython>=3.1.30->-r requirements.txt (line 5)) (5.0.1)\n",
            "Requirement already satisfied: six>=1.5 in /usr/local/lib/python3.10/dist-packages (from python-dateutil>=2.7->matplotlib>=3.3->-r requirements.txt (line 6)) (1.16.0)\n",
            "Requirement already satisfied: MarkupSafe>=2.0 in /usr/local/lib/python3.10/dist-packages (from jinja2->torch>=1.8.0->-r requirements.txt (line 15)) (2.1.3)\n",
            "Requirement already satisfied: mpmath>=0.19 in /usr/local/lib/python3.10/dist-packages (from sympy->torch>=1.8.0->-r requirements.txt (line 15)) (1.3.0)\n"
          ]
        }
      ],
      "source": [
        "!pip install -r requirements.txt"
      ]
    },
    {
      "cell_type": "code",
      "source": [
        "!python /content/yolov5/train.py --img 416 --batch 2 --epochs 350 --data /content/yolov5/1.yaml --weights yolov5s.pt --cache --name pcb_1st"
      ],
      "metadata": {
        "id": "Jg0817Rs8_Cz",
        "colab": {
          "base_uri": "https://localhost:8080/"
        },
        "outputId": "c363ccef-07c2-4f32-fbfe-3ce7c75f7d3e"
      },
      "execution_count": null,
      "outputs": [
        {
          "output_type": "stream",
          "name": "stdout",
          "text": [
            "2024-01-24 09:36:07.501153: E external/local_xla/xla/stream_executor/cuda/cuda_dnn.cc:9261] Unable to register cuDNN factory: Attempting to register factory for plugin cuDNN when one has already been registered\n",
            "2024-01-24 09:36:07.501224: E external/local_xla/xla/stream_executor/cuda/cuda_fft.cc:607] Unable to register cuFFT factory: Attempting to register factory for plugin cuFFT when one has already been registered\n",
            "2024-01-24 09:36:07.509574: E external/local_xla/xla/stream_executor/cuda/cuda_blas.cc:1515] Unable to register cuBLAS factory: Attempting to register factory for plugin cuBLAS when one has already been registered\n",
            "\u001b[34m\u001b[1mtrain: \u001b[0mweights=yolov5s.pt, cfg=, data=/content/yolov5/1.yaml, hyp=data/hyps/hyp.scratch-low.yaml, epochs=350, batch_size=2, imgsz=416, rect=False, resume=False, nosave=False, noval=False, noautoanchor=False, noplots=False, evolve=None, evolve_population=data/hyps, resume_evolve=None, bucket=, cache=ram, image_weights=False, device=, multi_scale=False, single_cls=False, optimizer=SGD, sync_bn=False, workers=8, project=runs/train, name=pcb_1st, exist_ok=False, quad=False, cos_lr=False, label_smoothing=0.0, patience=100, freeze=[0], save_period=-1, seed=0, local_rank=-1, entity=None, upload_dataset=False, bbox_interval=-1, artifact_alias=latest, ndjson_console=False, ndjson_file=False\n",
            "\u001b[34m\u001b[1mgithub: \u001b[0mup to date with https://github.com/ultralytics/yolov5 ✅\n",
            "YOLOv5 🚀 v7.0-278-g050c72c Python-3.10.12 torch-2.1.0+cu121 CPU\n",
            "\n",
            "\u001b[34m\u001b[1mhyperparameters: \u001b[0mlr0=0.01, lrf=0.01, momentum=0.937, weight_decay=0.0005, warmup_epochs=3.0, warmup_momentum=0.8, warmup_bias_lr=0.1, box=0.05, cls=0.5, cls_pw=1.0, obj=1.0, obj_pw=1.0, iou_t=0.2, anchor_t=4.0, fl_gamma=0.0, hsv_h=0.015, hsv_s=0.7, hsv_v=0.4, degrees=0.0, translate=0.1, scale=0.5, shear=0.0, perspective=0.0, flipud=0.0, fliplr=0.5, mosaic=1.0, mixup=0.0, copy_paste=0.0\n",
            "\u001b[34m\u001b[1mComet: \u001b[0mrun 'pip install comet_ml' to automatically track and visualize YOLOv5 🚀 runs in Comet\n",
            "\u001b[34m\u001b[1mTensorBoard: \u001b[0mStart with 'tensorboard --logdir runs/train', view at http://localhost:6006/\n",
            "Overriding model.yaml nc=80 with nc=6\n",
            "\n",
            "                 from  n    params  module                                  arguments                     \n",
            "  0                -1  1      3520  models.common.Conv                      [3, 32, 6, 2, 2]              \n",
            "  1                -1  1     18560  models.common.Conv                      [32, 64, 3, 2]                \n",
            "  2                -1  1     18816  models.common.C3                        [64, 64, 1]                   \n",
            "  3                -1  1     73984  models.common.Conv                      [64, 128, 3, 2]               \n",
            "  4                -1  2    115712  models.common.C3                        [128, 128, 2]                 \n",
            "  5                -1  1    295424  models.common.Conv                      [128, 256, 3, 2]              \n",
            "  6                -1  3    625152  models.common.C3                        [256, 256, 3]                 \n",
            "  7                -1  1   1180672  models.common.Conv                      [256, 512, 3, 2]              \n",
            "  8                -1  1   1182720  models.common.C3                        [512, 512, 1]                 \n",
            "  9                -1  1    656896  models.common.SPPF                      [512, 512, 5]                 \n",
            " 10                -1  1    131584  models.common.Conv                      [512, 256, 1, 1]              \n",
            " 11                -1  1         0  torch.nn.modules.upsampling.Upsample    [None, 2, 'nearest']          \n",
            " 12           [-1, 6]  1         0  models.common.Concat                    [1]                           \n",
            " 13                -1  1    361984  models.common.C3                        [512, 256, 1, False]          \n",
            " 14                -1  1     33024  models.common.Conv                      [256, 128, 1, 1]              \n",
            " 15                -1  1         0  torch.nn.modules.upsampling.Upsample    [None, 2, 'nearest']          \n",
            " 16           [-1, 4]  1         0  models.common.Concat                    [1]                           \n",
            " 17                -1  1     90880  models.common.C3                        [256, 128, 1, False]          \n",
            " 18                -1  1    147712  models.common.Conv                      [128, 128, 3, 2]              \n",
            " 19          [-1, 14]  1         0  models.common.Concat                    [1]                           \n",
            " 20                -1  1    296448  models.common.C3                        [256, 256, 1, False]          \n",
            " 21                -1  1    590336  models.common.Conv                      [256, 256, 3, 2]              \n",
            " 22          [-1, 10]  1         0  models.common.Concat                    [1]                           \n",
            " 23                -1  1   1182720  models.common.C3                        [512, 512, 1, False]          \n",
            " 24      [17, 20, 23]  1     29667  models.yolo.Detect                      [6, [[10, 13, 16, 30, 33, 23], [30, 61, 62, 45, 59, 119], [116, 90, 156, 198, 373, 326]], [128, 256, 512]]\n",
            "Model summary: 214 layers, 7035811 parameters, 7035811 gradients, 16.0 GFLOPs\n",
            "\n",
            "Transferred 343/349 items from yolov5s.pt\n",
            "\u001b[34m\u001b[1moptimizer:\u001b[0m SGD(lr=0.01) with parameter groups 57 weight(decay=0.0), 60 weight(decay=0.0005), 60 bias\n",
            "\u001b[34m\u001b[1malbumentations: \u001b[0mBlur(p=0.01, blur_limit=(3, 7)), MedianBlur(p=0.01, blur_limit=(3, 7)), ToGray(p=0.01), CLAHE(p=0.01, clip_limit=(1, 4.0), tile_grid_size=(8, 8))\n",
            "\u001b[34m\u001b[1mtrain: \u001b[0mScanning /content/yolov5/datasetpcb/labels/train.cache... 398 images, 0 backgrounds, 50 corrupt: 100% 448/448 [00:00<?, ?it/s]\n",
            "\u001b[34m\u001b[1mtrain: \u001b[0mWARNING ⚠️ /content/yolov5/datasetpcb/images/train/01_missing_hole_13.jpg: ignoring corrupt image/label: image file is truncated (7 bytes not processed)\n",
            "\u001b[34m\u001b[1mtrain: \u001b[0mWARNING ⚠️ /content/yolov5/datasetpcb/images/train/01_mouse_bite_02.jpg: ignoring corrupt image/label: image file is truncated (14 bytes not processed)\n",
            "\u001b[34m\u001b[1mtrain: \u001b[0mWARNING ⚠️ /content/yolov5/datasetpcb/images/train/01_mouse_bite_11.jpg: ignoring corrupt image/label: image file is truncated (16 bytes not processed)\n",
            "\u001b[34m\u001b[1mtrain: \u001b[0mWARNING ⚠️ /content/yolov5/datasetpcb/images/train/01_open_circuit_11.jpg: ignoring corrupt image/label: image file is truncated (4 bytes not processed)\n",
            "\u001b[34m\u001b[1mtrain: \u001b[0mWARNING ⚠️ /content/yolov5/datasetpcb/images/train/01_open_circuit_13.jpg: ignoring corrupt image/label: image file is truncated (7 bytes not processed)\n",
            "\u001b[34m\u001b[1mtrain: \u001b[0mWARNING ⚠️ /content/yolov5/datasetpcb/images/train/01_short_05.jpg: ignoring corrupt image/label: image file is truncated (29 bytes not processed)\n",
            "\u001b[34m\u001b[1mtrain: \u001b[0mWARNING ⚠️ /content/yolov5/datasetpcb/images/train/01_short_06.jpg: ignoring corrupt image/label: image file is truncated (15 bytes not processed)\n",
            "\u001b[34m\u001b[1mtrain: \u001b[0mWARNING ⚠️ /content/yolov5/datasetpcb/images/train/01_short_07.jpg: ignoring corrupt image/label: image file is truncated (33 bytes not processed)\n",
            "\u001b[34m\u001b[1mtrain: \u001b[0mWARNING ⚠️ /content/yolov5/datasetpcb/images/train/01_spur_05.jpg: ignoring corrupt image/label: image file is truncated (0 bytes not processed)\n",
            "\u001b[34m\u001b[1mtrain: \u001b[0mWARNING ⚠️ /content/yolov5/datasetpcb/images/train/01_spur_08.jpg: ignoring corrupt image/label: image file is truncated (19 bytes not processed)\n",
            "\u001b[34m\u001b[1mtrain: \u001b[0mWARNING ⚠️ /content/yolov5/datasetpcb/images/train/01_spur_11.jpg: ignoring corrupt image/label: image file is truncated (10 bytes not processed)\n",
            "\u001b[34m\u001b[1mtrain: \u001b[0mWARNING ⚠️ /content/yolov5/datasetpcb/images/train/01_spur_13.jpg: ignoring corrupt image/label: image file is truncated (9 bytes not processed)\n",
            "\u001b[34m\u001b[1mtrain: \u001b[0mWARNING ⚠️ /content/yolov5/datasetpcb/images/train/01_spur_18.jpg: ignoring corrupt image/label: image file is truncated (7 bytes not processed)\n",
            "\u001b[34m\u001b[1mtrain: \u001b[0mWARNING ⚠️ /content/yolov5/datasetpcb/images/train/04_mouse_bite_04.jpg: ignoring corrupt image/label: image file is truncated (15 bytes not processed)\n",
            "\u001b[34m\u001b[1mtrain: \u001b[0mWARNING ⚠️ /content/yolov5/datasetpcb/images/train/04_mouse_bite_09.jpg: ignoring corrupt image/label: image file is truncated (7 bytes not processed)\n",
            "\u001b[34m\u001b[1mtrain: \u001b[0mWARNING ⚠️ /content/yolov5/datasetpcb/images/train/04_mouse_bite_11.jpg: ignoring corrupt image/label: image file is truncated (10 bytes not processed)\n",
            "\u001b[34m\u001b[1mtrain: \u001b[0mWARNING ⚠️ /content/yolov5/datasetpcb/images/train/04_mouse_bite_13.jpg: ignoring corrupt image/label: image file is truncated (0 bytes not processed)\n",
            "\u001b[34m\u001b[1mtrain: \u001b[0mWARNING ⚠️ /content/yolov5/datasetpcb/images/train/04_mouse_bite_17.jpg: ignoring corrupt image/label: image file is truncated (1 bytes not processed)\n",
            "\u001b[34m\u001b[1mtrain: \u001b[0mWARNING ⚠️ /content/yolov5/datasetpcb/images/train/04_open_circuit_04.jpg: ignoring corrupt image/label: image file is truncated (7 bytes not processed)\n",
            "\u001b[34m\u001b[1mtrain: \u001b[0mWARNING ⚠️ /content/yolov5/datasetpcb/images/train/04_open_circuit_15.jpg: ignoring corrupt image/label: image file is truncated (4 bytes not processed)\n",
            "\u001b[34m\u001b[1mtrain: \u001b[0mWARNING ⚠️ /content/yolov5/datasetpcb/images/train/04_open_circuit_16.jpg: ignoring corrupt image/label: image file is truncated (14 bytes not processed)\n",
            "\u001b[34m\u001b[1mtrain: \u001b[0mWARNING ⚠️ /content/yolov5/datasetpcb/images/train/04_short_02.jpg: ignoring corrupt image/label: image file is truncated (6 bytes not processed)\n",
            "\u001b[34m\u001b[1mtrain: \u001b[0mWARNING ⚠️ /content/yolov5/datasetpcb/images/train/04_spurious_copper_09.jpg: ignoring corrupt image/label: image file is truncated (21 bytes not processed)\n",
            "\u001b[34m\u001b[1mtrain: \u001b[0mWARNING ⚠️ /content/yolov5/datasetpcb/images/train/04_spurious_copper_19.jpg: ignoring corrupt image/label: image file is truncated (7 bytes not processed)\n",
            "\u001b[34m\u001b[1mtrain: \u001b[0mWARNING ⚠️ /content/yolov5/datasetpcb/images/train/05_spurious_copper_01.jpg: ignoring corrupt image/label: image file is truncated (2 bytes not processed)\n",
            "\u001b[34m\u001b[1mtrain: \u001b[0mWARNING ⚠️ /content/yolov5/datasetpcb/images/train/06_missing_hole_06.jpg: ignoring corrupt image/label: image file is truncated (10 bytes not processed)\n",
            "\u001b[34m\u001b[1mtrain: \u001b[0mWARNING ⚠️ /content/yolov5/datasetpcb/images/train/06_mouse_bite_06.jpg: ignoring corrupt image/label: image file is truncated (23 bytes not processed)\n",
            "\u001b[34m\u001b[1mtrain: \u001b[0mWARNING ⚠️ /content/yolov5/datasetpcb/images/train/06_open_circuit_07.jpg: ignoring corrupt image/label: image file is truncated (12 bytes not processed)\n",
            "\u001b[34m\u001b[1mtrain: \u001b[0mWARNING ⚠️ /content/yolov5/datasetpcb/images/train/06_spur_03.jpg: ignoring corrupt image/label: image file is truncated (25 bytes not processed)\n",
            "\u001b[34m\u001b[1mtrain: \u001b[0mWARNING ⚠️ /content/yolov5/datasetpcb/images/train/06_spurious_copper_04.jpg: ignoring corrupt image/label: image file is truncated (3 bytes not processed)\n",
            "\u001b[34m\u001b[1mtrain: \u001b[0mWARNING ⚠️ /content/yolov5/datasetpcb/images/train/07_missing_hole_10.jpg: ignoring corrupt image/label: image file is truncated (0 bytes not processed)\n",
            "\u001b[34m\u001b[1mtrain: \u001b[0mWARNING ⚠️ /content/yolov5/datasetpcb/images/train/07_mouse_bite_08.jpg: ignoring corrupt image/label: image file is truncated (0 bytes not processed)\n",
            "\u001b[34m\u001b[1mtrain: \u001b[0mWARNING ⚠️ /content/yolov5/datasetpcb/images/train/07_short_02.jpg: ignoring corrupt image/label: image file is truncated (2 bytes not processed)\n",
            "\u001b[34m\u001b[1mtrain: \u001b[0mWARNING ⚠️ /content/yolov5/datasetpcb/images/train/07_short_04.jpg: ignoring corrupt image/label: image file is truncated (8 bytes not processed)\n",
            "\u001b[34m\u001b[1mtrain: \u001b[0mWARNING ⚠️ /content/yolov5/datasetpcb/images/train/07_short_05.jpg: ignoring corrupt image/label: image file is truncated (2 bytes not processed)\n",
            "\u001b[34m\u001b[1mtrain: \u001b[0mWARNING ⚠️ /content/yolov5/datasetpcb/images/train/07_spur_05.jpg: ignoring corrupt image/label: image file is truncated (15 bytes not processed)\n",
            "\u001b[34m\u001b[1mtrain: \u001b[0mWARNING ⚠️ /content/yolov5/datasetpcb/images/train/07_spur_10.jpg: ignoring corrupt image/label: image file is truncated (26 bytes not processed)\n",
            "\u001b[34m\u001b[1mtrain: \u001b[0mWARNING ⚠️ /content/yolov5/datasetpcb/images/train/07_spurious_copper_06.jpg: ignoring corrupt image/label: image file is truncated (0 bytes not processed)\n",
            "\u001b[34m\u001b[1mtrain: \u001b[0mWARNING ⚠️ /content/yolov5/datasetpcb/images/train/08_missing_hole_01.jpg: ignoring corrupt image/label: image file is truncated (19 bytes not processed)\n",
            "\u001b[34m\u001b[1mtrain: \u001b[0mWARNING ⚠️ /content/yolov5/datasetpcb/images/train/08_short_07.jpg: ignoring corrupt image/label: image file is truncated (20 bytes not processed)\n",
            "\u001b[34m\u001b[1mtrain: \u001b[0mWARNING ⚠️ /content/yolov5/datasetpcb/images/train/08_short_08.jpg: ignoring corrupt image/label: image file is truncated (17 bytes not processed)\n",
            "\u001b[34m\u001b[1mtrain: \u001b[0mWARNING ⚠️ /content/yolov5/datasetpcb/images/train/09_mouse_bite_03.jpg: ignoring corrupt image/label: image file is truncated (17 bytes not processed)\n",
            "\u001b[34m\u001b[1mtrain: \u001b[0mWARNING ⚠️ /content/yolov5/datasetpcb/images/train/09_mouse_bite_04.jpg: ignoring corrupt image/label: image file is truncated (27 bytes not processed)\n",
            "\u001b[34m\u001b[1mtrain: \u001b[0mWARNING ⚠️ /content/yolov5/datasetpcb/images/train/12_missing_hole_03.jpg: ignoring corrupt image/label: image file is truncated (10 bytes not processed)\n",
            "\u001b[34m\u001b[1mtrain: \u001b[0mWARNING ⚠️ /content/yolov5/datasetpcb/images/train/12_missing_hole_05.jpg: ignoring corrupt image/label: image file is truncated (5 bytes not processed)\n",
            "\u001b[34m\u001b[1mtrain: \u001b[0mWARNING ⚠️ /content/yolov5/datasetpcb/images/train/12_missing_hole_09.jpg: ignoring corrupt image/label: image file is truncated (3 bytes not processed)\n",
            "\u001b[34m\u001b[1mtrain: \u001b[0mWARNING ⚠️ /content/yolov5/datasetpcb/images/train/12_mouse_bite_04.jpg: ignoring corrupt image/label: image file is truncated (4 bytes not processed)\n",
            "\u001b[34m\u001b[1mtrain: \u001b[0mWARNING ⚠️ /content/yolov5/datasetpcb/images/train/12_short_02.jpg: ignoring corrupt image/label: image file is truncated (3 bytes not processed)\n",
            "\u001b[34m\u001b[1mtrain: \u001b[0mWARNING ⚠️ /content/yolov5/datasetpcb/images/train/12_short_06.jpg: ignoring corrupt image/label: image file is truncated (12 bytes not processed)\n",
            "\u001b[34m\u001b[1mtrain: \u001b[0mWARNING ⚠️ /content/yolov5/datasetpcb/images/train/12_spurious_copper_07.jpg: ignoring corrupt image/label: image file is truncated (13 bytes not processed)\n",
            "\u001b[34m\u001b[1mtrain: \u001b[0mCaching images (0.2GB ram): 100% 398/398 [00:50<00:00,  7.95it/s]\n",
            "\u001b[34m\u001b[1mval: \u001b[0mScanning /content/yolov5/datasetpcb/labels/val.cache... 138 images, 0 backgrounds, 0 corrupt: 100% 138/138 [00:00<?, ?it/s]\n",
            "\u001b[34m\u001b[1mval: \u001b[0mCaching images (0.1GB ram): 100% 138/138 [00:20<00:00,  6.63it/s]\n",
            "\n",
            "\u001b[34m\u001b[1mAutoAnchor: \u001b[0m2.65 anchors/target, 0.999 Best Possible Recall (BPR). Current anchors are a good fit to dataset ✅\n",
            "Plotting labels to runs/train/pcb_1st5/labels.jpg... \n",
            "Image sizes 416 train, 416 val\n",
            "Using 2 dataloader workers\n",
            "Logging results to \u001b[1mruns/train/pcb_1st5\u001b[0m\n",
            "Starting training for 350 epochs...\n",
            "\n",
            "      Epoch    GPU_mem   box_loss   obj_loss   cls_loss  Instances       Size\n",
            "      0/349         0G    0.07269    0.01314    0.02959         13        416: 100% 199/199 [04:26<00:00,  1.34s/it]\n",
            "                 Class     Images  Instances          P          R      mAP50   mAP50-95: 100% 35/35 [00:27<00:00,  1.25it/s]\n",
            "                   all        138        595          0          0          0          0\n",
            "\n",
            "      Epoch    GPU_mem   box_loss   obj_loss   cls_loss  Instances       Size\n",
            "      1/349         0G    0.07294    0.01232    0.02905         16        416: 100% 199/199 [04:21<00:00,  1.31s/it]\n",
            "                 Class     Images  Instances          P          R      mAP50   mAP50-95: 100% 35/35 [00:25<00:00,  1.36it/s]\n",
            "                   all        138        595          0          0          0          0\n",
            "\n",
            "      Epoch    GPU_mem   box_loss   obj_loss   cls_loss  Instances       Size\n",
            "      2/349         0G    0.06668    0.01159    0.02664          6        416: 100% 199/199 [04:18<00:00,  1.30s/it]\n",
            "                 Class     Images  Instances          P          R      mAP50   mAP50-95: 100% 35/35 [00:25<00:00,  1.39it/s]\n",
            "                   all        138        595          0          0          0          0\n",
            "\n",
            "      Epoch    GPU_mem   box_loss   obj_loss   cls_loss  Instances       Size\n",
            "      3/349         0G    0.06723    0.01236    0.02585         11        416: 100% 199/199 [04:16<00:00,  1.29s/it]\n",
            "                 Class     Images  Instances          P          R      mAP50   mAP50-95: 100% 35/35 [00:27<00:00,  1.28it/s]\n",
            "                   all        138        595   0.000438    0.00505   0.000246   5.93e-05\n",
            "\n",
            "      Epoch    GPU_mem   box_loss   obj_loss   cls_loss  Instances       Size\n",
            "      4/349         0G    0.06504    0.01283    0.02504         10        416: 100% 199/199 [04:21<00:00,  1.32s/it]\n",
            "                 Class     Images  Instances          P          R      mAP50   mAP50-95: 100% 35/35 [00:26<00:00,  1.31it/s]\n",
            "                   all        138        595   0.000158     0.0136   8.38e-05   1.59e-05\n",
            "\n",
            "      Epoch    GPU_mem   box_loss   obj_loss   cls_loss  Instances       Size\n",
            "      5/349         0G    0.06298    0.01375    0.02405         14        416: 100% 199/199 [04:20<00:00,  1.31s/it]\n",
            "                 Class     Images  Instances          P          R      mAP50   mAP50-95: 100% 35/35 [00:25<00:00,  1.39it/s]\n",
            "                   all        138        595    0.00151     0.0594    0.00142   0.000385\n",
            "\n",
            "      Epoch    GPU_mem   box_loss   obj_loss   cls_loss  Instances       Size\n",
            "      6/349         0G    0.06662    0.01365    0.02498         10        416: 100% 199/199 [04:18<00:00,  1.30s/it]\n",
            "                 Class     Images  Instances          P          R      mAP50   mAP50-95: 100% 35/35 [00:25<00:00,  1.37it/s]\n",
            "                   all        138        595   0.000471      0.063   0.000893   0.000234\n",
            "\n",
            "      Epoch    GPU_mem   box_loss   obj_loss   cls_loss  Instances       Size\n",
            "      7/349         0G    0.05992    0.01312    0.02304         16        416: 100% 199/199 [04:19<00:00,  1.30s/it]\n",
            "                 Class     Images  Instances          P          R      mAP50   mAP50-95: 100% 35/35 [00:25<00:00,  1.38it/s]\n",
            "                   all        138        595    0.00137     0.0781    0.00189   0.000397\n",
            "\n",
            "      Epoch    GPU_mem   box_loss   obj_loss   cls_loss  Instances       Size\n",
            "      8/349         0G    0.06324    0.01378     0.0235          9        416: 100% 199/199 [04:21<00:00,  1.31s/it]\n",
            "                 Class     Images  Instances          P          R      mAP50   mAP50-95: 100% 35/35 [00:26<00:00,  1.34it/s]\n",
            "                   all        138        595     0.0017      0.122     0.0105    0.00303\n",
            "\n",
            "      Epoch    GPU_mem   box_loss   obj_loss   cls_loss  Instances       Size\n",
            "      9/349         0G    0.05978    0.01342    0.02205         33        416: 100% 199/199 [04:18<00:00,  1.30s/it]\n",
            "                 Class     Images  Instances          P          R      mAP50   mAP50-95: 100% 35/35 [00:26<00:00,  1.35it/s]\n",
            "                   all        138        595     0.0017      0.125    0.00822    0.00152\n",
            "\n",
            "      Epoch    GPU_mem   box_loss   obj_loss   cls_loss  Instances       Size\n",
            "     10/349         0G    0.05921    0.01354    0.02092          9        416: 100% 199/199 [04:17<00:00,  1.29s/it]\n",
            "                 Class     Images  Instances          P          R      mAP50   mAP50-95: 100% 35/35 [00:25<00:00,  1.36it/s]\n",
            "                   all        138        595      0.854     0.0272     0.0159     0.0036\n",
            "\n",
            "      Epoch    GPU_mem   box_loss   obj_loss   cls_loss  Instances       Size\n",
            "     11/349         0G     0.0622    0.01418    0.02202          7        416: 100% 199/199 [04:33<00:00,  1.37s/it]\n",
            "                 Class     Images  Instances          P          R      mAP50   mAP50-95: 100% 35/35 [00:27<00:00,  1.26it/s]\n",
            "                   all        138        595      0.872     0.0323     0.0221    0.00549\n",
            "\n",
            "      Epoch    GPU_mem   box_loss   obj_loss   cls_loss  Instances       Size\n",
            "     12/349         0G    0.05746    0.01294      0.021         13        416: 100% 199/199 [04:32<00:00,  1.37s/it]\n",
            "                 Class     Images  Instances          P          R      mAP50   mAP50-95: 100% 35/35 [00:26<00:00,  1.31it/s]\n",
            "                   all        138        595    0.00662       0.12    0.00604    0.00136\n",
            "\n",
            "      Epoch    GPU_mem   box_loss   obj_loss   cls_loss  Instances       Size\n",
            "     13/349         0G    0.05695    0.01428    0.02173          9        416: 100% 199/199 [04:17<00:00,  1.29s/it]\n",
            "                 Class     Images  Instances          P          R      mAP50   mAP50-95: 100% 35/35 [00:27<00:00,  1.28it/s]\n",
            "                   all        138        595     0.0739     0.0518     0.0324    0.00864\n",
            "\n",
            "      Epoch    GPU_mem   box_loss   obj_loss   cls_loss  Instances       Size\n",
            "     14/349         0G    0.05678    0.01573    0.02197         11        416: 100% 199/199 [04:18<00:00,  1.30s/it]\n",
            "                 Class     Images  Instances          P          R      mAP50   mAP50-95: 100% 35/35 [00:26<00:00,  1.33it/s]\n",
            "                   all        138        595     0.0694      0.136       0.08     0.0259\n",
            "\n",
            "      Epoch    GPU_mem   box_loss   obj_loss   cls_loss  Instances       Size\n",
            "     15/349         0G    0.05054    0.01477    0.02081         24        416: 100% 199/199 [04:18<00:00,  1.30s/it]\n",
            "                 Class     Images  Instances          P          R      mAP50   mAP50-95: 100% 35/35 [00:25<00:00,  1.36it/s]\n",
            "                   all        138        595     0.0969      0.185     0.0641     0.0175\n",
            "\n",
            "      Epoch    GPU_mem   box_loss   obj_loss   cls_loss  Instances       Size\n",
            "     16/349         0G    0.04958    0.01481    0.02038         19        416: 100% 199/199 [04:21<00:00,  1.31s/it]\n",
            "                 Class     Images  Instances          P          R      mAP50   mAP50-95: 100% 35/35 [00:25<00:00,  1.36it/s]\n",
            "                   all        138        595      0.113      0.206     0.0803     0.0241\n",
            "\n",
            "      Epoch    GPU_mem   box_loss   obj_loss   cls_loss  Instances       Size\n",
            "     17/349         0G    0.04707     0.0139    0.02009         25        416: 100% 199/199 [04:25<00:00,  1.33s/it]\n",
            "                 Class     Images  Instances          P          R      mAP50   mAP50-95: 100% 35/35 [00:25<00:00,  1.36it/s]\n",
            "                   all        138        595      0.139      0.215      0.129     0.0329\n",
            "\n",
            "      Epoch    GPU_mem   box_loss   obj_loss   cls_loss  Instances       Size\n",
            "     18/349         0G    0.04796     0.0142    0.01987         20        416: 100% 199/199 [04:20<00:00,  1.31s/it]\n",
            "                 Class     Images  Instances          P          R      mAP50   mAP50-95: 100% 35/35 [00:25<00:00,  1.36it/s]\n",
            "                   all        138        595      0.121      0.245      0.133     0.0465\n",
            "\n",
            "      Epoch    GPU_mem   box_loss   obj_loss   cls_loss  Instances       Size\n",
            "     19/349         0G    0.04775    0.01478    0.01999          5        416: 100% 199/199 [04:23<00:00,  1.32s/it]\n",
            "                 Class     Images  Instances          P          R      mAP50   mAP50-95: 100% 35/35 [00:25<00:00,  1.38it/s]\n",
            "                   all        138        595      0.144      0.257      0.171     0.0609\n",
            "\n",
            "      Epoch    GPU_mem   box_loss   obj_loss   cls_loss  Instances       Size\n",
            "     20/349         0G    0.04403    0.01425    0.01915          9        416: 100% 199/199 [04:19<00:00,  1.30s/it]\n",
            "                 Class     Images  Instances          P          R      mAP50   mAP50-95: 100% 35/35 [00:26<00:00,  1.30it/s]\n",
            "                   all        138        595      0.156      0.272      0.182     0.0585\n",
            "\n",
            "      Epoch    GPU_mem   box_loss   obj_loss   cls_loss  Instances       Size\n",
            "     21/349         0G    0.04383    0.01392    0.01901         13        416: 100% 199/199 [04:18<00:00,  1.30s/it]\n",
            "                 Class     Images  Instances          P          R      mAP50   mAP50-95: 100% 35/35 [00:25<00:00,  1.38it/s]\n",
            "                   all        138        595      0.206      0.253      0.152     0.0428\n",
            "\n",
            "      Epoch    GPU_mem   box_loss   obj_loss   cls_loss  Instances       Size\n",
            "     22/349         0G     0.0439    0.01422    0.01879         25        416: 100% 199/199 [04:17<00:00,  1.30s/it]\n",
            "                 Class     Images  Instances          P          R      mAP50   mAP50-95: 100% 35/35 [00:26<00:00,  1.34it/s]\n",
            "                   all        138        595      0.214      0.313      0.212     0.0664\n",
            "\n",
            "      Epoch    GPU_mem   box_loss   obj_loss   cls_loss  Instances       Size\n",
            "     23/349         0G    0.04375    0.01464    0.01841         10        416: 100% 199/199 [04:16<00:00,  1.29s/it]\n",
            "                 Class     Images  Instances          P          R      mAP50   mAP50-95: 100% 35/35 [00:25<00:00,  1.37it/s]\n",
            "                   all        138        595      0.268       0.33      0.255     0.0801\n",
            "\n",
            "      Epoch    GPU_mem   box_loss   obj_loss   cls_loss  Instances       Size\n",
            "     24/349         0G    0.04286     0.0136    0.01794         15        416: 100% 199/199 [04:16<00:00,  1.29s/it]\n",
            "                 Class     Images  Instances          P          R      mAP50   mAP50-95: 100% 35/35 [00:25<00:00,  1.38it/s]\n",
            "                   all        138        595      0.268      0.393      0.272     0.0943\n",
            "\n",
            "      Epoch    GPU_mem   box_loss   obj_loss   cls_loss  Instances       Size\n",
            "     25/349         0G    0.04247    0.01383    0.01819         15        416: 100% 199/199 [04:20<00:00,  1.31s/it]\n",
            "                 Class     Images  Instances          P          R      mAP50   mAP50-95: 100% 35/35 [00:25<00:00,  1.36it/s]\n",
            "                   all        138        595      0.263      0.368      0.249      0.068\n",
            "\n",
            "      Epoch    GPU_mem   box_loss   obj_loss   cls_loss  Instances       Size\n",
            "     26/349         0G    0.04072    0.01404    0.01749         21        416: 100% 199/199 [04:22<00:00,  1.32s/it]\n",
            "                 Class     Images  Instances          P          R      mAP50   mAP50-95: 100% 35/35 [00:25<00:00,  1.35it/s]\n",
            "                   all        138        595      0.322      0.374      0.267     0.0907\n",
            "\n",
            "      Epoch    GPU_mem   box_loss   obj_loss   cls_loss  Instances       Size\n",
            "     27/349         0G    0.04019    0.01374    0.01754         13        416: 100% 199/199 [04:21<00:00,  1.31s/it]\n",
            "                 Class     Images  Instances          P          R      mAP50   mAP50-95: 100% 35/35 [00:25<00:00,  1.36it/s]\n",
            "                   all        138        595      0.374      0.413      0.317      0.105\n",
            "\n",
            "      Epoch    GPU_mem   box_loss   obj_loss   cls_loss  Instances       Size\n",
            "     28/349         0G    0.03991     0.0138     0.0175          9        416: 100% 199/199 [04:18<00:00,  1.30s/it]\n",
            "                 Class     Images  Instances          P          R      mAP50   mAP50-95: 100% 35/35 [00:25<00:00,  1.39it/s]\n",
            "                   all        138        595      0.382      0.414      0.352      0.119\n",
            "\n",
            "      Epoch    GPU_mem   box_loss   obj_loss   cls_loss  Instances       Size\n",
            "     29/349         0G    0.03823    0.01405    0.01598          7        416: 100% 199/199 [04:17<00:00,  1.29s/it]\n",
            "                 Class     Images  Instances          P          R      mAP50   mAP50-95: 100% 35/35 [00:25<00:00,  1.35it/s]\n",
            "                   all        138        595      0.445      0.453      0.388      0.136\n",
            "\n",
            "      Epoch    GPU_mem   box_loss   obj_loss   cls_loss  Instances       Size\n",
            "     30/349         0G    0.03788    0.01309    0.01594         14        416: 100% 199/199 [04:20<00:00,  1.31s/it]\n",
            "                 Class     Images  Instances          P          R      mAP50   mAP50-95: 100% 35/35 [00:25<00:00,  1.38it/s]\n",
            "                   all        138        595      0.297      0.422       0.29      0.078\n",
            "\n",
            "      Epoch    GPU_mem   box_loss   obj_loss   cls_loss  Instances       Size\n",
            "     31/349         0G    0.03905    0.01318    0.01631         20        416:  69% 138/199 [03:01<01:17,  1.27s/it]"
          ]
        }
      ]
    },
    {
      "cell_type": "code",
      "execution_count": null,
      "metadata": {
        "id": "kZq37rmSQBdG",
        "colab": {
          "base_uri": "https://localhost:8080/"
        },
        "outputId": "20bfe393-82b6-4a92-9472-24e45bb32c68"
      },
      "outputs": [
        {
          "output_type": "stream",
          "name": "stdout",
          "text": [
            "  adding: content/yolov5/runs/ (stored 0%)\n",
            "  adding: content/yolov5/runs/train/ (stored 0%)\n",
            "  adding: content/yolov5/runs/train/pcb_1st12.zip (stored 0%)\n",
            "  adding: content/yolov5/runs/train/pcb_1st/ (stored 0%)\n",
            "  adding: content/yolov5/runs/train/pcb_1st/weights/ (stored 0%)\n",
            "  adding: content/yolov5/runs/train/pcb_1st/weights/best.pt (deflated 8%)\n",
            "  adding: content/yolov5/runs/train/pcb_1st/weights/last.pt (deflated 8%)\n",
            "  adding: content/yolov5/runs/train/pcb_1st/hyp.yaml (deflated 45%)\n",
            "  adding: content/yolov5/runs/train/pcb_1st/train_batch1.jpg (deflated 10%)\n",
            "  adding: content/yolov5/runs/train/pcb_1st/results.csv (deflated 84%)\n",
            "  adding: content/yolov5/runs/train/pcb_1st/train_batch0.jpg (deflated 12%)\n",
            "  adding: content/yolov5/runs/train/pcb_1st/val_batch0_pred.jpg (deflated 15%)\n",
            "  adding: content/yolov5/runs/train/pcb_1st/confusion_matrix.png (deflated 21%)\n",
            "  adding: content/yolov5/runs/train/pcb_1st/val_batch1_pred.jpg (deflated 14%)\n",
            "  adding: content/yolov5/runs/train/pcb_1st/labels_correlogram.jpg (deflated 37%)\n",
            "  adding: content/yolov5/runs/train/pcb_1st/val_batch2_pred.jpg (deflated 15%)\n",
            "  adding: content/yolov5/runs/train/pcb_1st/results.png (deflated 8%)\n",
            "  adding: content/yolov5/runs/train/pcb_1st/P_curve.png (deflated 11%)\n",
            "  adding: content/yolov5/runs/train/pcb_1st/F1_curve.png (deflated 7%)\n",
            "  adding: content/yolov5/runs/train/pcb_1st/val_batch1_labels.jpg (deflated 16%)\n",
            "  adding: content/yolov5/runs/train/pcb_1st/PR_curve.png (deflated 11%)\n",
            "  adding: content/yolov5/runs/train/pcb_1st/val_batch0_labels.jpg (deflated 14%)\n",
            "  adding: content/yolov5/runs/train/pcb_1st/val_batch2_labels.jpg (deflated 13%)\n",
            "  adding: content/yolov5/runs/train/pcb_1st/events.out.tfevents.1706072185.1b4b7afa05c6.6212.0 (deflated 31%)\n",
            "  adding: content/yolov5/runs/train/pcb_1st/labels.jpg (deflated 28%)\n",
            "  adding: content/yolov5/runs/train/pcb_1st/opt.yaml (deflated 50%)\n",
            "  adding: content/yolov5/runs/train/pcb_1st/train_batch2.jpg (deflated 12%)\n",
            "  adding: content/yolov5/runs/train/pcb_1st/R_curve.png (deflated 8%)\n"
          ]
        }
      ],
      "source": [
        "!zip -r /content/yolov5/runs/train/pcb_1st /content/yolov5/runs\n"
      ]
    },
    {
      "cell_type": "code",
      "execution_count": null,
      "metadata": {
        "colab": {
          "base_uri": "https://localhost:8080/"
        },
        "id": "bwRqN6qPQQjN",
        "outputId": "d7b5bec3-bb77-45f0-ed79-95c3308d892e"
      },
      "outputs": [
        {
          "output_type": "stream",
          "name": "stdout",
          "text": [
            "\u001b[34m\u001b[1mval: \u001b[0mdata=/content/yolov5/1.yaml, weights=['/content/yolov5/runs/train/pcb_1st/weights/best.pt'], batch_size=32, imgsz=640, conf_thres=0.001, iou_thres=0.6, max_det=300, task=val, device=, workers=8, single_cls=False, augment=False, verbose=False, save_txt=False, save_hybrid=False, save_conf=False, save_json=False, project=runs/val, name=exp, exist_ok=False, half=False, dnn=False\n",
            "YOLOv5 🚀 v7.0-278-g050c72c Python-3.10.12 torch-2.1.0+cu121 CUDA:0 (Tesla T4, 15102MiB)\n",
            "\n",
            "Fusing layers... \n",
            "Model summary: 157 layers, 7026307 parameters, 0 gradients, 15.8 GFLOPs\n",
            "\u001b[34m\u001b[1mval: \u001b[0mScanning /content/yolov5/datasetpcb/labels/val.cache... 138 images, 0 backgrounds, 0 corrupt: 100% 138/138 [00:00<?, ?it/s]\n",
            "                 Class     Images  Instances          P          R      mAP50   mAP50-95: 100% 5/5 [00:21<00:00,  4.40s/it]\n",
            "                   all        138        595       0.84      0.758      0.812      0.395\n",
            "          missing_hole        138         98      0.599      0.765      0.776      0.407\n",
            "            mouse_bite        138        100      0.918      0.675      0.734      0.337\n",
            "          open_circuit        138         99      0.886      0.717      0.806      0.406\n",
            "                 short        138         97      0.958       0.94      0.938      0.483\n",
            "                  spur        138         99      0.772      0.677       0.76      0.336\n",
            "       spurious_copper        138        102      0.908      0.772      0.859      0.401\n",
            "Speed: 1.3ms pre-process, 10.5ms inference, 10.7ms NMS per image at shape (32, 3, 640, 640)\n",
            "Results saved to \u001b[1mruns/val/exp\u001b[0m\n"
          ]
        }
      ],
      "source": [
        "!python val.py --weights  /content/yolov5/runs/train/pcb_1st/weights/best.pt --data /content/yolov5/1.yaml"
      ]
    },
    {
      "cell_type": "code",
      "execution_count": null,
      "metadata": {
        "id": "r696aGWi42Yr",
        "colab": {
          "base_uri": "https://localhost:8080/"
        },
        "outputId": "8edaa8ce-9026-48f6-bfd9-e6ffce64395b"
      },
      "outputs": [
        {
          "output_type": "stream",
          "name": "stdout",
          "text": [
            "\u001b[34m\u001b[1mdetect: \u001b[0mweights=['/content/yolov5/runs/train/pcb_1st/weights/best.pt'], source=/content/yolov5/datasetpcb/images/train/01_missing_hole_02.jpg, data=data/coco128.yaml, imgsz=[640, 640], conf_thres=0.25, iou_thres=0.45, max_det=1000, device=, view_img=False, save_txt=False, save_csv=False, save_conf=False, save_crop=False, nosave=False, classes=None, agnostic_nms=False, augment=False, visualize=False, update=False, project=runs/detect, name=exp, exist_ok=False, line_thickness=3, hide_labels=False, hide_conf=False, half=False, dnn=False, vid_stride=1\n",
            "YOLOv5 🚀 v7.0-278-g050c72c Python-3.10.12 torch-2.1.0+cu121 CUDA:0 (Tesla T4, 15102MiB)\n",
            "\n",
            "Fusing layers... \n",
            "Model summary: 157 layers, 7026307 parameters, 0 gradients, 15.8 GFLOPs\n",
            "WARNING ⚠️ NMS time limit 0.550s exceeded\n",
            "image 1/1 /content/yolov5/datasetpcb/images/train/01_missing_hole_02.jpg: 352x640 4 missing_holes, 1 spurious_copper, 59.1ms\n",
            "Speed: 0.6ms pre-process, 59.1ms inference, 568.7ms NMS per image at shape (1, 3, 640, 640)\n",
            "Results saved to \u001b[1mruns/detect/exp3\u001b[0m\n"
          ]
        }
      ],
      "source": [
        "!python detect.py --source /content/yolov5/datasetpcb/images/train/01_missing_hole_02.jpg --weights /content/yolov5/runs/train/pcb_1st/weights/best.pt"
      ]
    },
    {
      "cell_type": "code",
      "source": [
        "import os\n",
        "\n",
        "def delete_zip_file(zip_file_path):\n",
        "    try:\n",
        "        os.remove(zip_file_path)\n",
        "        print(f\"Zip file '{zip_file_path}' deleted successfully.\")\n",
        "    except Exception as e:\n",
        "        print(f\"Error deleting zip file '{zip_file_path}': {e}\")\n",
        "\n",
        "# Replace 'your_zip_file.zip' with the actual path to your zip file\n",
        "zip_file_path = '/content/yolov5/runs/train/pcb_1st12.zip'\n",
        "\n",
        "delete_zip_file(zip_file_path)\n"
      ],
      "metadata": {
        "id": "gukgW5ypxYhi",
        "colab": {
          "base_uri": "https://localhost:8080/"
        },
        "outputId": "658907df-1b7a-45bb-9594-6160e2519dcf"
      },
      "execution_count": null,
      "outputs": [
        {
          "output_type": "stream",
          "name": "stdout",
          "text": [
            "Zip file '/content/yolov5/runs/train/pcb_1st12.zip' deleted successfully.\n"
          ]
        }
      ]
    },
    {
      "cell_type": "code",
      "source": [],
      "metadata": {
        "id": "N7nVoD6pYbQ2"
      },
      "execution_count": null,
      "outputs": []
    }
  ],
  "metadata": {
    "accelerator": "GPU",
    "colab": {
      "provenance": [],
      "gpuType": "T4",
      "authorship_tag": "ABX9TyOOj+IQ39blOaObTEG3fwUJ",
      "include_colab_link": true
    },
    "kernelspec": {
      "display_name": "Python 3",
      "name": "python3"
    },
    "language_info": {
      "name": "python"
    }
  },
  "nbformat": 4,
  "nbformat_minor": 0
}